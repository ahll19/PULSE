{
 "cells": [
  {
   "cell_type": "markdown",
   "metadata": {},
   "source": [
    "# Notebook for NSREC publication plots\n",
    "A collections of analyses and plots for our NSREC paper. As multiple data sets are imported, I am adding caching of parsed data in for of pickle files to save some time. "
   ]
  },
  {
   "cell_type": "code",
   "execution_count": 10,
   "metadata": {},
   "outputs": [
    {
     "name": "stdout",
     "output_type": "stream",
     "text": [
      "The autoreload extension is already loaded. To reload it, use:\n",
      "  %reload_ext autoreload\n"
     ]
    }
   ],
   "source": [
    "%load_ext autoreload\n",
    "%autoreload 2\n",
    "from src.data_interface import DataInterface\n",
    "from src.analysis.base_tools import BaseTools\n",
    "from src.analysis.ibex_coremark_tools import IbexCoremarkTools\n",
    "from src.analysis.ibex_hwsec_coremark_tools import IbexHwsecCoremarkTools\n",
    "from src.run_info.run_info import RunInfo\n",
    "\n",
    "import pickle\n",
    "import matplotlib as mpl\n",
    "import matplotlib.pyplot as plt\n",
    "import pandas as pd\n",
    "import numpy as np\n",
    "import scipy.stats as stats\n",
    "from scipy.special import comb\n",
    "from anytree.exporter import DotExporter\n",
    "\n",
    "def visualization_setup():\n",
    "    # Interactive plots. Requires tkinter on the machine running the code\n",
    "    mpl.use(\"TkAgg\")\n",
    "    # Latex formatting for plots. Some visualizations might not work without this\n",
    "    plt.rcParams[\"font.family\"] = \"serif\"\n",
    "    plt.rcParams[\"mathtext.fontset\"] = \"dejavuserif\"\n",
    "\n",
    "visualization_setup()"
   ]
  },
  {
   "cell_type": "markdown",
   "metadata": {},
   "source": [
    "## Parse data sets\n",
    "Only run this if data has changed. Takes a loooong time"
   ]
  },
  {
   "cell_type": "code",
   "execution_count": 11,
   "metadata": {},
   "outputs": [],
   "source": [
    "# declare which data sets you want to parse in a dict, so they can be looped thru\n",
    "data_sets = {\n",
    "    \"RV32MSingleCycle\" : \"src/run_info/ibex_RV32MSingleCycle_coremark.ini\"\n",
    "}"
   ]
  },
  {
   "cell_type": "code",
   "execution_count": 12,
   "metadata": {},
   "outputs": [
    {
     "name": "stdout",
     "output_type": "stream",
     "text": [
      "\u001b[95mParsing SEU logs...\u001b[0m\n"
     ]
    },
    {
     "name": "stderr",
     "output_type": "stream",
     "text": [
      "  0%|          | 313/98243 [00:00<01:31, 1072.23it/s]"
     ]
    },
    {
     "name": "stdout",
     "output_type": "stream",
     "text": [
      "\u001b[93m  Could not read /home/anvesh/projects/Ibex-Analysis/data_RV32MSingleCycle_080124/seu_2023-12-17_03-19-15.335438/log.txt\u001b[0m\n",
      "\u001b[93m  'utf-8' codec can't decode byte 0xcc in position 6012: invalid continuation byte\u001b[0m\n",
      "\u001b[93m  Could not read /home/anvesh/projects/Ibex-Analysis/data_RV32MSingleCycle_080124/seu_2023-12-29_08-06-48.143199/log.txt\u001b[0m\n",
      "\u001b[93m  'utf-8' codec can't decode byte 0xcc in position 6182: invalid continuation byte\u001b[0m\n"
     ]
    },
    {
     "name": "stderr",
     "output_type": "stream",
     "text": [
      "  1%|          | 928/98243 [00:00<01:12, 1349.88it/s]"
     ]
    },
    {
     "name": "stdout",
     "output_type": "stream",
     "text": [
      "\u001b[93m  Could not read /home/anvesh/projects/Ibex-Analysis/data_RV32MSingleCycle_080124/seu_2023-12-17_02-36-44.048116/log.txt\u001b[0m\n",
      "\u001b[93m  'utf-8' codec can't decode byte 0x94 in position 6102: invalid start byte\u001b[0m\n"
     ]
    },
    {
     "name": "stderr",
     "output_type": "stream",
     "text": [
      "  3%|▎         | 2460/98243 [00:01<01:06, 1431.27it/s]"
     ]
    },
    {
     "name": "stdout",
     "output_type": "stream",
     "text": [
      "\u001b[93m  Could not read /home/anvesh/projects/Ibex-Analysis/data_RV32MSingleCycle_080124/seu_2023-12-18_03-51-55.888917/log.txt\u001b[0m\n",
      "\u001b[93m  'utf-8' codec can't decode byte 0xcb in position 6031: invalid continuation byte\u001b[0m\n"
     ]
    },
    {
     "name": "stderr",
     "output_type": "stream",
     "text": [
      "  3%|▎         | 3141/98243 [00:02<01:00, 1578.42it/s]"
     ]
    },
    {
     "name": "stdout",
     "output_type": "stream",
     "text": [
      "\u001b[93m  Could not read /home/anvesh/projects/Ibex-Analysis/data_RV32MSingleCycle_080124/seu_2023-12-30_14-43-32.410247/log.txt\u001b[0m\n",
      "\u001b[93m  'utf-8' codec can't decode byte 0x94 in position 6102: invalid start byte\u001b[0m\n",
      "\u001b[93m  Could not read /home/anvesh/projects/Ibex-Analysis/data_RV32MSingleCycle_080124/seu_2023-12-30_15-30-21.168260/log.txt\u001b[0m\n",
      "\u001b[93m  'utf-8' codec can't decode byte 0x85 in position 5888: invalid start byte\u001b[0m\n",
      "\u001b[93m  Could not read /home/anvesh/projects/Ibex-Analysis/data_RV32MSingleCycle_080124/seu_2023-12-31_19-06-30.695383/log.txt\u001b[0m\n",
      "\u001b[93m  'utf-8' codec can't decode byte 0xcc in position 6328: invalid continuation byte\u001b[0m\n"
     ]
    },
    {
     "name": "stderr",
     "output_type": "stream",
     "text": [
      "  4%|▍         | 3803/98243 [00:02<01:02, 1511.78it/s]"
     ]
    },
    {
     "name": "stdout",
     "output_type": "stream",
     "text": [
      "\u001b[93m  Could not read /home/anvesh/projects/Ibex-Analysis/data_RV32MSingleCycle_080124/seu_2023-12-31_11-34-13.302733/log.txt\u001b[0m\n",
      "\u001b[93m  'utf-8' codec can't decode byte 0x94 in position 6101: invalid start byte\u001b[0m\n"
     ]
    },
    {
     "name": "stderr",
     "output_type": "stream",
     "text": [
      "  6%|▌         | 5822/98243 [00:04<01:04, 1422.05it/s]"
     ]
    },
    {
     "name": "stdout",
     "output_type": "stream",
     "text": [
      "\u001b[93m  Could not read /home/anvesh/projects/Ibex-Analysis/data_RV32MSingleCycle_080124/seu_2023-12-17_08-08-09.589132/log.txt\u001b[0m\n",
      "\u001b[93m  'utf-8' codec can't decode byte 0x94 in position 6102: invalid start byte\u001b[0m\n"
     ]
    },
    {
     "name": "stderr",
     "output_type": "stream",
     "text": [
      "  7%|▋         | 6844/98243 [00:05<01:21, 1121.05it/s]"
     ]
    },
    {
     "name": "stdout",
     "output_type": "stream",
     "text": [
      "\u001b[93m  Could not read /home/anvesh/projects/Ibex-Analysis/data_RV32MSingleCycle_080124/seu_2023-12-17_08-31-01.909231/log.txt\u001b[0m\n",
      "\u001b[93m  'utf-8' codec can't decode byte 0x94 in position 6102: invalid start byte\u001b[0m\n"
     ]
    },
    {
     "name": "stderr",
     "output_type": "stream",
     "text": [
      " 10%|▉         | 9416/98243 [00:06<01:10, 1258.69it/s]"
     ]
    },
    {
     "name": "stdout",
     "output_type": "stream",
     "text": [
      "\u001b[93m  Could not read /home/anvesh/projects/Ibex-Analysis/data_RV32MSingleCycle_080124/seu_2023-12-15_18-18-54.926519/log.txt\u001b[0m\n",
      "\u001b[93m  'utf-8' codec can't decode byte 0xcc in position 6276: invalid continuation byte\u001b[0m\n"
     ]
    },
    {
     "name": "stderr",
     "output_type": "stream",
     "text": [
      " 11%|█         | 10951/98243 [00:08<01:02, 1387.11it/s]"
     ]
    },
    {
     "name": "stdout",
     "output_type": "stream",
     "text": [
      "\u001b[93m  Could not read /home/anvesh/projects/Ibex-Analysis/data_RV32MSingleCycle_080124/seu_2023-12-30_01-54-46.530763/log.txt\u001b[0m\n",
      "\u001b[93m  'utf-8' codec can't decode byte 0xcc in position 6181: invalid continuation byte\u001b[0m\n",
      "\u001b[93m  Could not read /home/anvesh/projects/Ibex-Analysis/data_RV32MSingleCycle_080124/seu_2023-12-30_15-07-30.048714/log.txt\u001b[0m\n",
      "\u001b[93m  'utf-8' codec can't decode byte 0xcc in position 6250: invalid continuation byte\u001b[0m\n"
     ]
    },
    {
     "name": "stderr",
     "output_type": "stream",
     "text": [
      " 13%|█▎        | 12513/98243 [00:09<01:03, 1348.06it/s]"
     ]
    },
    {
     "name": "stdout",
     "output_type": "stream",
     "text": [
      "\u001b[93m  Could not read /home/anvesh/projects/Ibex-Analysis/data_RV32MSingleCycle_080124/seu_2023-12-15_17-47-00.095400/log.txt\u001b[0m\n",
      "\u001b[93m  'utf-8' codec can't decode byte 0xf8 in position 6058: invalid start byte\u001b[0m\n"
     ]
    },
    {
     "name": "stderr",
     "output_type": "stream",
     "text": [
      " 14%|█▍        | 13783/98243 [00:10<00:58, 1437.97it/s]"
     ]
    },
    {
     "name": "stdout",
     "output_type": "stream",
     "text": [
      "\u001b[93m  Could not read /home/anvesh/projects/Ibex-Analysis/data_RV32MSingleCycle_080124/seu_2023-12-29_07-02-09.694325/log.txt\u001b[0m\n",
      "\u001b[93m  'utf-8' codec can't decode byte 0xe7 in position 6367: invalid continuation byte\u001b[0m\n",
      "\u001b[93m  Could not read /home/anvesh/projects/Ibex-Analysis/data_RV32MSingleCycle_080124/seu_2023-12-17_01-04-48.617371/log.txt\u001b[0m\n",
      "\u001b[93m  'utf-8' codec can't decode byte 0x94 in position 6101: invalid start byte\u001b[0m\n"
     ]
    },
    {
     "name": "stderr",
     "output_type": "stream",
     "text": [
      " 15%|█▍        | 14406/98243 [00:10<00:58, 1421.51it/s]"
     ]
    },
    {
     "name": "stdout",
     "output_type": "stream",
     "text": [
      "\u001b[93m  Could not read /home/anvesh/projects/Ibex-Analysis/data_RV32MSingleCycle_080124/seu_2023-12-29_15-36-59.596549/log.txt\u001b[0m\n",
      "\u001b[93m  'utf-8' codec can't decode byte 0xa8 in position 5890: invalid start byte\u001b[0m\n"
     ]
    },
    {
     "name": "stderr",
     "output_type": "stream",
     "text": [
      " 15%|█▌        | 15174/98243 [00:11<01:16, 1087.67it/s]"
     ]
    },
    {
     "name": "stdout",
     "output_type": "stream",
     "text": [
      "\u001b[93m  Could not read /home/anvesh/projects/Ibex-Analysis/data_RV32MSingleCycle_080124/seu_2023-12-29_01-55-36.298404/log.txt\u001b[0m\n",
      "\u001b[93m  'utf-8' codec can't decode byte 0xc1 in position 6051: invalid start byte\u001b[0m\n"
     ]
    },
    {
     "name": "stderr",
     "output_type": "stream",
     "text": [
      " 16%|█▋        | 16159/98243 [00:12<01:11, 1150.49it/s]"
     ]
    },
    {
     "name": "stdout",
     "output_type": "stream",
     "text": [
      "\u001b[93m  Could not read /home/anvesh/projects/Ibex-Analysis/data_RV32MSingleCycle_080124/seu_2023-12-18_00-59-37.245370/log.txt\u001b[0m\n",
      "\u001b[93m  'utf-8' codec can't decode byte 0x94 in position 6101: invalid start byte\u001b[0m\n"
     ]
    },
    {
     "name": "stderr",
     "output_type": "stream",
     "text": [
      " 17%|█▋        | 16683/98243 [00:12<00:53, 1520.42it/s]"
     ]
    },
    {
     "name": "stdout",
     "output_type": "stream",
     "text": [
      "\u001b[93m  Could not read /home/anvesh/projects/Ibex-Analysis/data_RV32MSingleCycle_080124/seu_2023-12-30_08-55-17.347104/log.txt\u001b[0m\n",
      "\u001b[93m  'utf-8' codec can't decode byte 0xff in position 6219: invalid start byte\u001b[0m\n"
     ]
    },
    {
     "name": "stderr",
     "output_type": "stream",
     "text": [
      " 19%|█▊        | 18241/98243 [00:13<00:51, 1540.87it/s]"
     ]
    },
    {
     "name": "stdout",
     "output_type": "stream",
     "text": [
      "\u001b[93m  Could not read /home/anvesh/projects/Ibex-Analysis/data_RV32MSingleCycle_080124/seu_2023-12-30_00-37-01.584310/log.txt\u001b[0m\n",
      "\u001b[93m  'utf-8' codec can't decode byte 0xcc in position 6132: invalid continuation byte\u001b[0m\n"
     ]
    },
    {
     "name": "stderr",
     "output_type": "stream",
     "text": [
      " 20%|█▉        | 19615/98243 [00:14<00:57, 1374.90it/s]"
     ]
    },
    {
     "name": "stdout",
     "output_type": "stream",
     "text": [
      "\u001b[93m  Could not read /home/anvesh/projects/Ibex-Analysis/data_RV32MSingleCycle_080124/seu_2023-12-29_03-19-27.109106/log.txt\u001b[0m\n",
      "\u001b[93m  'utf-8' codec can't decode byte 0x82 in position 6705: invalid start byte\u001b[0m\n"
     ]
    },
    {
     "name": "stderr",
     "output_type": "stream",
     "text": [
      " 20%|██        | 20074/98243 [00:15<01:01, 1273.14it/s]"
     ]
    },
    {
     "name": "stdout",
     "output_type": "stream",
     "text": [
      "\u001b[93m  Could not read /home/anvesh/projects/Ibex-Analysis/data_RV32MSingleCycle_080124/seu_2023-12-31_12-05-50.415294/log.txt\u001b[0m\n",
      "\u001b[93m  'utf-8' codec can't decode byte 0x94 in position 6101: invalid start byte\u001b[0m\n"
     ]
    },
    {
     "name": "stderr",
     "output_type": "stream",
     "text": [
      " 21%|██        | 20807/98243 [00:15<00:52, 1463.87it/s]"
     ]
    },
    {
     "name": "stdout",
     "output_type": "stream",
     "text": [
      "\u001b[93m  Could not read /home/anvesh/projects/Ibex-Analysis/data_RV32MSingleCycle_080124/seu_2023-12-30_09-38-58.574537/log.txt\u001b[0m\n",
      "\u001b[93m  'utf-8' codec can't decode byte 0xf8 in position 6230: invalid start byte\u001b[0m\n"
     ]
    },
    {
     "name": "stderr",
     "output_type": "stream",
     "text": [
      " 23%|██▎       | 22852/98243 [00:17<00:56, 1344.03it/s]"
     ]
    },
    {
     "name": "stdout",
     "output_type": "stream",
     "text": [
      "\u001b[93m  Could not read /home/anvesh/projects/Ibex-Analysis/data_RV32MSingleCycle_080124/seu_2023-12-17_02-20-39.072949/log.txt\u001b[0m\n",
      "\u001b[93m  'utf-8' codec can't decode byte 0xcc in position 6327: invalid continuation byte\u001b[0m\n"
     ]
    },
    {
     "name": "stderr",
     "output_type": "stream",
     "text": [
      " 24%|██▍       | 23394/98243 [00:17<00:56, 1327.98it/s]"
     ]
    },
    {
     "name": "stdout",
     "output_type": "stream",
     "text": [
      "\u001b[93m  Could not read /home/anvesh/projects/Ibex-Analysis/data_RV32MSingleCycle_080124/seu_2023-12-16_19-49-36.872923/log.txt\u001b[0m\n",
      "\u001b[93m  'utf-8' codec can't decode byte 0xd0 in position 6177: invalid continuation byte\u001b[0m\n"
     ]
    },
    {
     "name": "stderr",
     "output_type": "stream",
     "text": [
      " 25%|██▌       | 24688/98243 [00:18<00:57, 1270.53it/s]"
     ]
    },
    {
     "name": "stdout",
     "output_type": "stream",
     "text": [
      "\u001b[93m  Could not read /home/anvesh/projects/Ibex-Analysis/data_RV32MSingleCycle_080124/seu_2023-12-29_17-18-11.289401/log.txt\u001b[0m\n",
      "\u001b[93m  'utf-8' codec can't decode byte 0x82 in position 6009: invalid start byte\u001b[0m\n"
     ]
    },
    {
     "name": "stderr",
     "output_type": "stream",
     "text": [
      " 26%|██▌       | 25580/98243 [00:19<01:07, 1069.09it/s]"
     ]
    },
    {
     "name": "stdout",
     "output_type": "stream",
     "text": [
      "\u001b[93m  Could not read /home/anvesh/projects/Ibex-Analysis/data_RV32MSingleCycle_080124/seu_2023-12-30_03-33-11.749171/log.txt\u001b[0m\n",
      "\u001b[93m  'utf-8' codec can't decode byte 0xe2 in position 6466: invalid continuation byte\u001b[0m\n"
     ]
    },
    {
     "name": "stderr",
     "output_type": "stream",
     "text": [
      " 26%|██▋       | 25928/98243 [00:19<00:52, 1380.15it/s]"
     ]
    },
    {
     "name": "stdout",
     "output_type": "stream",
     "text": [
      "\u001b[93m  Could not read /home/anvesh/projects/Ibex-Analysis/data_RV32MSingleCycle_080124/seu_2023-12-28_23-51-42.260585/log.txt\u001b[0m\n",
      "\u001b[93m  'utf-8' codec can't decode byte 0xcc in position 6570: invalid continuation byte\u001b[0m\n",
      "\u001b[93m  Could not read /home/anvesh/projects/Ibex-Analysis/data_RV32MSingleCycle_080124/seu_2023-12-17_04-48-08.865881/log.txt\u001b[0m\n",
      "\u001b[93m  'utf-8' codec can't decode byte 0x80 in position 6436: invalid start byte\u001b[0m\n",
      "\u001b[93m  Could not read /home/anvesh/projects/Ibex-Analysis/data_RV32MSingleCycle_080124/seu_2023-12-30_01-14-27.114834/log.txt\u001b[0m\n",
      "\u001b[93m  'utf-8' codec can't decode byte 0x94 in position 6100: invalid start byte\u001b[0m\n"
     ]
    },
    {
     "name": "stderr",
     "output_type": "stream",
     "text": [
      " 28%|██▊       | 27631/98243 [00:21<00:56, 1244.21it/s]"
     ]
    },
    {
     "name": "stdout",
     "output_type": "stream",
     "text": [
      "\u001b[93m  Could not read /home/anvesh/projects/Ibex-Analysis/data_RV32MSingleCycle_080124/seu_2023-12-31_15-57-23.375304/log.txt\u001b[0m\n",
      "\u001b[93m  'utf-8' codec can't decode byte 0xf8 in position 6057: invalid start byte\u001b[0m\n"
     ]
    },
    {
     "name": "stderr",
     "output_type": "stream",
     "text": [
      " 29%|██▊       | 28079/98243 [00:21<00:50, 1398.46it/s]"
     ]
    },
    {
     "name": "stdout",
     "output_type": "stream",
     "text": [
      "\u001b[93m  Could not read /home/anvesh/projects/Ibex-Analysis/data_RV32MSingleCycle_080124/seu_2023-12-16_06-33-33.823919/log.txt\u001b[0m\n",
      "\u001b[93m  'utf-8' codec can't decode byte 0x94 in position 6102: invalid start byte\u001b[0m\n",
      "\u001b[93m  Could not read /home/anvesh/projects/Ibex-Analysis/data_RV32MSingleCycle_080124/seu_2023-12-28_23-51-49.812334/log.txt\u001b[0m\n",
      "\u001b[93m  'utf-8' codec can't decode byte 0xcc in position 6640: invalid continuation byte\u001b[0m\n"
     ]
    },
    {
     "name": "stderr",
     "output_type": "stream",
     "text": [
      " 30%|██▉       | 29454/98243 [00:22<00:56, 1208.16it/s]"
     ]
    },
    {
     "name": "stdout",
     "output_type": "stream",
     "text": [
      "\u001b[93m  Could not read /home/anvesh/projects/Ibex-Analysis/data_RV32MSingleCycle_080124/seu_2023-12-31_12-51-27.180023/log.txt\u001b[0m\n",
      "\u001b[93m  'utf-8' codec can't decode byte 0x94 in position 6100: invalid start byte\u001b[0m\n"
     ]
    },
    {
     "name": "stderr",
     "output_type": "stream",
     "text": [
      " 32%|███▏      | 31025/98243 [00:23<01:00, 1116.25it/s]"
     ]
    },
    {
     "name": "stdout",
     "output_type": "stream",
     "text": [
      "\u001b[93m  Could not read /home/anvesh/projects/Ibex-Analysis/data_RV32MSingleCycle_080124/seu_2023-12-15_20-47-11.570976/log.txt\u001b[0m\n",
      "\u001b[93m  'utf-8' codec can't decode byte 0x81 in position 6769: invalid start byte\u001b[0m\n"
     ]
    },
    {
     "name": "stderr",
     "output_type": "stream",
     "text": [
      " 34%|███▎      | 33031/98243 [00:25<00:49, 1310.07it/s]"
     ]
    },
    {
     "name": "stdout",
     "output_type": "stream",
     "text": [
      "\u001b[93m  Could not read /home/anvesh/projects/Ibex-Analysis/data_RV32MSingleCycle_080124/seu_2023-12-30_08-07-59.530894/log.txt\u001b[0m\n",
      "\u001b[93m  'utf-8' codec can't decode byte 0x93 in position 6056: invalid start byte\u001b[0m\n"
     ]
    },
    {
     "name": "stderr",
     "output_type": "stream",
     "text": [
      " 34%|███▍      | 33487/98243 [00:25<00:45, 1413.34it/s]"
     ]
    },
    {
     "name": "stdout",
     "output_type": "stream",
     "text": [
      "\u001b[93m  Could not read /home/anvesh/projects/Ibex-Analysis/data_RV32MSingleCycle_080124/seu_2023-12-29_16-54-52.537500/log.txt\u001b[0m\n",
      "\u001b[93m  'utf-8' codec can't decode byte 0xd0 in position 6436: invalid continuation byte\u001b[0m\n"
     ]
    },
    {
     "name": "stderr",
     "output_type": "stream",
     "text": [
      " 34%|███▍      | 33791/98243 [00:25<00:51, 1256.55it/s]"
     ]
    },
    {
     "name": "stdout",
     "output_type": "stream",
     "text": [
      "\u001b[93m  Could not read /home/anvesh/projects/Ibex-Analysis/data_RV32MSingleCycle_080124/seu_2023-12-31_14-38-16.697962/log.txt\u001b[0m\n",
      "\u001b[93m  'utf-8' codec can't decode byte 0xcc in position 6380: invalid continuation byte\u001b[0m\n"
     ]
    },
    {
     "name": "stderr",
     "output_type": "stream",
     "text": [
      " 36%|███▌      | 35152/98243 [00:26<00:43, 1463.42it/s]"
     ]
    },
    {
     "name": "stdout",
     "output_type": "stream",
     "text": [
      "\u001b[93m  Could not read /home/anvesh/projects/Ibex-Analysis/data_RV32MSingleCycle_080124/seu_2023-12-31_07-03-27.331466/log.txt\u001b[0m\n",
      "\u001b[93m  'utf-8' codec can't decode byte 0xa0 in position 5945: invalid start byte\u001b[0m\n",
      "\u001b[93m  Could not read /home/anvesh/projects/Ibex-Analysis/data_RV32MSingleCycle_080124/seu_2023-12-15_21-56-30.414078/log.txt\u001b[0m\n",
      "\u001b[93m  'utf-8' codec can't decode byte 0x92 in position 6033: invalid start byte\u001b[0m\n"
     ]
    },
    {
     "name": "stderr",
     "output_type": "stream",
     "text": [
      " 36%|███▌      | 35577/98243 [00:27<00:47, 1330.12it/s]"
     ]
    },
    {
     "name": "stdout",
     "output_type": "stream",
     "text": [
      "\u001b[93m  Could not read /home/anvesh/projects/Ibex-Analysis/data_RV32MSingleCycle_080124/seu_2023-12-30_03-10-43.784866/log.txt\u001b[0m\n",
      "\u001b[93m  'utf-8' codec can't decode byte 0xf8 in position 6055: invalid start byte\u001b[0m\n"
     ]
    },
    {
     "name": "stderr",
     "output_type": "stream",
     "text": [
      " 37%|███▋      | 36359/98243 [00:27<00:40, 1523.50it/s]"
     ]
    },
    {
     "name": "stdout",
     "output_type": "stream",
     "text": [
      "\u001b[93m  Could not read /home/anvesh/projects/Ibex-Analysis/data_RV32MSingleCycle_080124/seu_2023-12-18_01-03-31.885889/log.txt\u001b[0m\n",
      "\u001b[93m  'utf-8' codec can't decode byte 0xf8 in position 5889: invalid start byte\u001b[0m\n"
     ]
    },
    {
     "name": "stderr",
     "output_type": "stream",
     "text": [
      " 37%|███▋      | 36802/98243 [00:28<00:43, 1405.07it/s]"
     ]
    },
    {
     "name": "stdout",
     "output_type": "stream",
     "text": [
      "\u001b[93m  Could not read /home/anvesh/projects/Ibex-Analysis/data_RV32MSingleCycle_080124/seu_2023-12-16_18-14-07.778458/log.txt\u001b[0m\n",
      "\u001b[93m  'utf-8' codec can't decode byte 0x81 in position 6765: invalid start byte\u001b[0m\n"
     ]
    },
    {
     "name": "stderr",
     "output_type": "stream",
     "text": [
      " 38%|███▊      | 37796/98243 [00:28<00:42, 1411.21it/s]"
     ]
    },
    {
     "name": "stdout",
     "output_type": "stream",
     "text": [
      "\u001b[93m  Could not read /home/anvesh/projects/Ibex-Analysis/data_RV32MSingleCycle_080124/seu_2023-12-30_23-15-51.123420/log.txt\u001b[0m\n",
      "\u001b[93m  'utf-8' codec can't decode byte 0xfc in position 6550: invalid start byte\u001b[0m\n"
     ]
    },
    {
     "name": "stderr",
     "output_type": "stream",
     "text": [
      " 39%|███▉      | 38076/98243 [00:29<00:45, 1319.55it/s]"
     ]
    },
    {
     "name": "stdout",
     "output_type": "stream",
     "text": [
      "\u001b[93m  Could not read /home/anvesh/projects/Ibex-Analysis/data_RV32MSingleCycle_080124/seu_2023-12-30_00-05-09.522099/log.txt\u001b[0m\n",
      "\u001b[93m  'utf-8' codec can't decode byte 0xff in position 6311: invalid start byte\u001b[0m\n",
      "\u001b[93m  Could not read /home/anvesh/projects/Ibex-Analysis/data_RV32MSingleCycle_080124/seu_2023-12-29_19-22-48.209727/log.txt\u001b[0m\n",
      "\u001b[93m  'utf-8' codec can't decode byte 0x94 in position 6102: invalid start byte\u001b[0m\n"
     ]
    },
    {
     "name": "stderr",
     "output_type": "stream",
     "text": [
      " 40%|███▉      | 38948/98243 [00:29<00:45, 1292.60it/s]"
     ]
    },
    {
     "name": "stdout",
     "output_type": "stream",
     "text": [
      "\u001b[93m  Could not read /home/anvesh/projects/Ibex-Analysis/data_RV32MSingleCycle_080124/seu_2023-12-31_03-16-02.150609/log.txt\u001b[0m\n",
      "\u001b[93m  'utf-8' codec can't decode byte 0xb7 in position 6205: invalid start byte\u001b[0m\n"
     ]
    },
    {
     "name": "stderr",
     "output_type": "stream",
     "text": [
      " 41%|████      | 39801/98243 [00:30<00:52, 1123.68it/s]"
     ]
    },
    {
     "name": "stdout",
     "output_type": "stream",
     "text": [
      "\u001b[93m  Could not read /home/anvesh/projects/Ibex-Analysis/data_RV32MSingleCycle_080124/seu_2023-12-30_07-52-20.495288/log.txt\u001b[0m\n",
      "\u001b[93m  'utf-8' codec can't decode byte 0x94 in position 6102: invalid start byte\u001b[0m\n",
      "\u001b[93m  Could not read /home/anvesh/projects/Ibex-Analysis/data_RV32MSingleCycle_080124/seu_2023-12-17_14-49-03.755382/log.txt\u001b[0m\n",
      "\u001b[93m  'utf-8' codec can't decode byte 0xf2 in position 6337: invalid continuation byte\u001b[0m\n"
     ]
    },
    {
     "name": "stderr",
     "output_type": "stream",
     "text": [
      " 41%|████      | 40312/98243 [00:30<00:53, 1081.06it/s]"
     ]
    },
    {
     "name": "stdout",
     "output_type": "stream",
     "text": [
      "\u001b[93m  Could not read /home/anvesh/projects/Ibex-Analysis/data_RV32MSingleCycle_080124/seu_2023-12-29_10-37-18.809658/log.txt\u001b[0m\n",
      "\u001b[93m  'utf-8' codec can't decode byte 0x82 in position 5973: invalid start byte\u001b[0m\n"
     ]
    },
    {
     "name": "stderr",
     "output_type": "stream",
     "text": [
      " 41%|████▏     | 40709/98243 [00:31<00:50, 1139.41it/s]"
     ]
    },
    {
     "name": "stdout",
     "output_type": "stream",
     "text": [
      "\u001b[93m  Could not read /home/anvesh/projects/Ibex-Analysis/data_RV32MSingleCycle_080124/seu_2023-12-18_02-04-28.962234/log.txt\u001b[0m\n",
      "\u001b[93m  'utf-8' codec can't decode byte 0xcc in position 6275: invalid continuation byte\u001b[0m\n",
      "\u001b[93m  Could not read /home/anvesh/projects/Ibex-Analysis/data_RV32MSingleCycle_080124/seu_2023-12-30_05-57-48.170331/log.txt\u001b[0m\n",
      "\u001b[93m  'utf-8' codec can't decode byte 0xd0 in position 6731: invalid continuation byte\u001b[0m\n"
     ]
    },
    {
     "name": "stderr",
     "output_type": "stream",
     "text": [
      " 42%|████▏     | 41133/98243 [00:31<00:49, 1148.21it/s]"
     ]
    },
    {
     "name": "stdout",
     "output_type": "stream",
     "text": [
      "\u001b[93m  Could not read /home/anvesh/projects/Ibex-Analysis/data_RV32MSingleCycle_080124/seu_2023-12-29_10-14-41.766290/log.txt\u001b[0m\n",
      "\u001b[93m  'utf-8' codec can't decode byte 0xf2 in position 6477: invalid continuation byte\u001b[0m\n"
     ]
    },
    {
     "name": "stderr",
     "output_type": "stream",
     "text": [
      " 42%|████▏     | 41399/98243 [00:31<00:46, 1231.43it/s]"
     ]
    },
    {
     "name": "stdout",
     "output_type": "stream",
     "text": [
      "\u001b[93m  Could not read /home/anvesh/projects/Ibex-Analysis/data_RV32MSingleCycle_080124/seu_2023-12-31_17-35-19.135700/log.txt\u001b[0m\n",
      "\u001b[93m  'utf-8' codec can't decode byte 0x82 in position 6314: invalid start byte\u001b[0m\n",
      "\u001b[93m  Could not read /home/anvesh/projects/Ibex-Analysis/data_RV32MSingleCycle_080124/seu_2023-12-17_05-32-15.832576/log.txt\u001b[0m\n",
      "\u001b[93m  'utf-8' codec can't decode byte 0xfa in position 6367: invalid start byte\u001b[0m\n"
     ]
    },
    {
     "name": "stderr",
     "output_type": "stream",
     "text": [
      " 42%|████▏     | 41640/98243 [00:32<00:56, 1004.56it/s]"
     ]
    },
    {
     "name": "stdout",
     "output_type": "stream",
     "text": [
      "\u001b[93m  Could not read /home/anvesh/projects/Ibex-Analysis/data_RV32MSingleCycle_080124/seu_2023-12-17_06-17-56.918953/log.txt\u001b[0m\n",
      "\u001b[93m  'utf-8' codec can't decode byte 0xcc in position 6012: invalid continuation byte\u001b[0m\n"
     ]
    },
    {
     "name": "stderr",
     "output_type": "stream",
     "text": [
      " 43%|████▎     | 42466/98243 [00:32<00:44, 1241.10it/s]"
     ]
    },
    {
     "name": "stdout",
     "output_type": "stream",
     "text": [
      "\u001b[93m  Could not read /home/anvesh/projects/Ibex-Analysis/data_RV32MSingleCycle_080124/seu_2023-12-29_16-21-07.544532/log.txt\u001b[0m\n",
      "\u001b[93m  'utf-8' codec can't decode byte 0xcc in position 6161: invalid continuation byte\u001b[0m\n",
      "\u001b[93m  Could not read /home/anvesh/projects/Ibex-Analysis/data_RV32MSingleCycle_080124/seu_2023-12-29_00-22-29.967654/log.txt\u001b[0m\n",
      "\u001b[93m  'utf-8' codec can't decode byte 0xcc in position 6379: invalid continuation byte\u001b[0m\n",
      "\u001b[93m  Could not read /home/anvesh/projects/Ibex-Analysis/data_RV32MSingleCycle_080124/seu_2023-12-31_02-57-19.351813/log.txt\u001b[0m\n",
      "\u001b[93m  'utf-8' codec can't decode byte 0xcc in position 6250: invalid continuation byte\u001b[0m\n"
     ]
    },
    {
     "name": "stderr",
     "output_type": "stream",
     "text": [
      " 45%|████▍     | 44145/98243 [00:34<00:41, 1305.12it/s]"
     ]
    },
    {
     "name": "stdout",
     "output_type": "stream",
     "text": [
      "\u001b[93m  Could not read /home/anvesh/projects/Ibex-Analysis/data_RV32MSingleCycle_080124/seu_2023-12-29_08-01-43.788624/log.txt\u001b[0m\n",
      "\u001b[93m  'utf-8' codec can't decode byte 0xb7 in position 6565: invalid start byte\u001b[0m\n"
     ]
    },
    {
     "name": "stderr",
     "output_type": "stream",
     "text": [
      " 46%|████▌     | 44773/98243 [00:34<00:35, 1516.07it/s]"
     ]
    },
    {
     "name": "stdout",
     "output_type": "stream",
     "text": [
      "\u001b[93m  Could not read /home/anvesh/projects/Ibex-Analysis/data_RV32MSingleCycle_080124/seu_2023-12-31_09-49-45.609646/log.txt\u001b[0m\n",
      "\u001b[93m  'utf-8' codec can't decode byte 0xc0 in position 6007: invalid start byte\u001b[0m\n"
     ]
    },
    {
     "name": "stderr",
     "output_type": "stream",
     "text": [
      " 47%|████▋     | 45895/98243 [00:35<00:35, 1475.12it/s]"
     ]
    },
    {
     "name": "stdout",
     "output_type": "stream",
     "text": [
      "\u001b[93m  Could not read /home/anvesh/projects/Ibex-Analysis/data_RV32MSingleCycle_080124/seu_2023-12-16_18-02-51.756018/log.txt\u001b[0m\n",
      "\u001b[93m  'utf-8' codec can't decode byte 0x8c in position 6032: invalid start byte\u001b[0m\n"
     ]
    },
    {
     "name": "stderr",
     "output_type": "stream",
     "text": [
      " 49%|████▉     | 48264/98243 [00:37<00:36, 1372.03it/s]"
     ]
    },
    {
     "name": "stdout",
     "output_type": "stream",
     "text": [
      "\u001b[93m  Could not read /home/anvesh/projects/Ibex-Analysis/data_RV32MSingleCycle_080124/seu_2023-12-16_07-08-34.516210/log.txt\u001b[0m\n",
      "\u001b[93m  'utf-8' codec can't decode byte 0xe8 in position 6205: invalid continuation byte\u001b[0m\n"
     ]
    },
    {
     "name": "stderr",
     "output_type": "stream",
     "text": [
      " 50%|█████     | 49329/98243 [00:38<00:45, 1070.37it/s]"
     ]
    },
    {
     "name": "stdout",
     "output_type": "stream",
     "text": [
      "\u001b[93m  Could not read /home/anvesh/projects/Ibex-Analysis/data_RV32MSingleCycle_080124/seu_2023-12-18_07-21-09.782956/log.txt\u001b[0m\n",
      "\u001b[93m  'utf-8' codec can't decode byte 0x93 in position 6007: invalid start byte\u001b[0m\n"
     ]
    },
    {
     "name": "stderr",
     "output_type": "stream",
     "text": [
      " 53%|█████▎    | 52026/98243 [00:40<00:28, 1630.40it/s]"
     ]
    },
    {
     "name": "stdout",
     "output_type": "stream",
     "text": [
      "\u001b[93m  Could not read /home/anvesh/projects/Ibex-Analysis/data_RV32MSingleCycle_080124/seu_2023-12-31_09-43-20.274953/log.txt\u001b[0m\n",
      "\u001b[93m  'utf-8' codec can't decode byte 0x82 in position 6714: invalid start byte\u001b[0m\n"
     ]
    },
    {
     "name": "stderr",
     "output_type": "stream",
     "text": [
      " 56%|█████▌    | 54600/98243 [00:42<00:35, 1229.08it/s]"
     ]
    },
    {
     "name": "stdout",
     "output_type": "stream",
     "text": [
      "\u001b[93m  Could not read /home/anvesh/projects/Ibex-Analysis/data_RV32MSingleCycle_080124/seu_2023-12-30_14-55-49.397118/log.txt\u001b[0m\n",
      "\u001b[93m  'utf-8' codec can't decode byte 0xe8 in position 6206: invalid continuation byte\u001b[0m\n"
     ]
    },
    {
     "name": "stderr",
     "output_type": "stream",
     "text": [
      " 57%|█████▋    | 56093/98243 [00:42<00:26, 1617.03it/s]"
     ]
    },
    {
     "name": "stdout",
     "output_type": "stream",
     "text": [
      "\u001b[93m  Could not read /home/anvesh/projects/Ibex-Analysis/data_RV32MSingleCycle_080124/seu_2023-12-29_14-22-16.616353/log.txt\u001b[0m\n",
      "\u001b[93m  'utf-8' codec can't decode byte 0x94 in position 6100: invalid start byte\u001b[0m\n"
     ]
    },
    {
     "name": "stderr",
     "output_type": "stream",
     "text": [
      " 58%|█████▊    | 56566/98243 [00:43<00:32, 1288.79it/s]"
     ]
    },
    {
     "name": "stdout",
     "output_type": "stream",
     "text": [
      "\u001b[93m  Could not read /home/anvesh/projects/Ibex-Analysis/data_RV32MSingleCycle_080124/seu_2023-12-16_11-05-20.904326/log.txt\u001b[0m\n",
      "\u001b[93m  'utf-8' codec can't decode byte 0x8b in position 6479: invalid start byte\u001b[0m\n"
     ]
    },
    {
     "name": "stderr",
     "output_type": "stream",
     "text": [
      " 58%|█████▊    | 57013/98243 [00:43<00:32, 1279.91it/s]"
     ]
    },
    {
     "name": "stdout",
     "output_type": "stream",
     "text": [
      "\u001b[93m  Could not read /home/anvesh/projects/Ibex-Analysis/data_RV32MSingleCycle_080124/seu_2023-12-18_07-11-05.282354/log.txt\u001b[0m\n",
      "\u001b[93m  'utf-8' codec can't decode byte 0x94 in position 6101: invalid start byte\u001b[0m\n"
     ]
    },
    {
     "name": "stderr",
     "output_type": "stream",
     "text": [
      " 58%|█████▊    | 57282/98243 [00:43<00:34, 1203.06it/s]"
     ]
    },
    {
     "name": "stdout",
     "output_type": "stream",
     "text": [
      "\u001b[93m  Could not read /home/anvesh/projects/Ibex-Analysis/data_RV32MSingleCycle_080124/seu_2023-12-16_11-10-09.987545/log.txt\u001b[0m\n",
      "\u001b[93m  'utf-8' codec can't decode byte 0xf8 in position 6058: invalid start byte\u001b[0m\n"
     ]
    },
    {
     "name": "stderr",
     "output_type": "stream",
     "text": [
      " 60%|██████    | 58959/98243 [00:45<00:32, 1215.92it/s]"
     ]
    },
    {
     "name": "stdout",
     "output_type": "stream",
     "text": [
      "\u001b[93m  Could not read /home/anvesh/projects/Ibex-Analysis/data_RV32MSingleCycle_080124/seu_2023-12-30_05-32-40.922160/log.txt\u001b[0m\n",
      "\u001b[93m  'utf-8' codec can't decode byte 0x80 in position 6653: invalid start byte\u001b[0m\n"
     ]
    },
    {
     "name": "stderr",
     "output_type": "stream",
     "text": [
      " 61%|██████▏   | 60254/98243 [00:46<00:24, 1522.04it/s]"
     ]
    },
    {
     "name": "stdout",
     "output_type": "stream",
     "text": [
      "\u001b[93m  Could not read /home/anvesh/projects/Ibex-Analysis/data_RV32MSingleCycle_080124/seu_2023-12-30_23-47-29.865127/log.txt\u001b[0m\n",
      "\u001b[93m  'utf-8' codec can't decode byte 0x91 in position 6355: invalid start byte\u001b[0m\n"
     ]
    },
    {
     "name": "stderr",
     "output_type": "stream",
     "text": [
      " 64%|██████▎   | 62478/98243 [00:47<00:21, 1695.32it/s]"
     ]
    },
    {
     "name": "stdout",
     "output_type": "stream",
     "text": [
      "\u001b[93m  Could not read /home/anvesh/projects/Ibex-Analysis/data_RV32MSingleCycle_080124/seu_2023-12-17_23-09-06.837534/log.txt\u001b[0m\n",
      "\u001b[93m  'utf-8' codec can't decode byte 0xd0 in position 6604: invalid continuation byte\u001b[0m\n"
     ]
    },
    {
     "name": "stderr",
     "output_type": "stream",
     "text": [
      " 64%|██████▍   | 62804/98243 [00:48<00:29, 1206.75it/s]"
     ]
    },
    {
     "name": "stdout",
     "output_type": "stream",
     "text": [
      "\u001b[93m  Could not read /home/anvesh/projects/Ibex-Analysis/data_RV32MSingleCycle_080124/seu_2023-12-31_04-00-45.120428/log.txt\u001b[0m\n",
      "\u001b[93m  'utf-8' codec can't decode byte 0x86 in position 6358: invalid start byte\u001b[0m\n"
     ]
    },
    {
     "name": "stderr",
     "output_type": "stream",
     "text": [
      " 66%|██████▌   | 64352/98243 [00:49<00:27, 1230.97it/s]"
     ]
    },
    {
     "name": "stdout",
     "output_type": "stream",
     "text": [
      "\u001b[93m  Could not read /home/anvesh/projects/Ibex-Analysis/data_RV32MSingleCycle_080124/seu_2023-12-17_03-28-48.477860/log.txt\u001b[0m\n",
      "\u001b[93m  'utf-8' codec can't decode byte 0x94 in position 6100: invalid start byte\u001b[0m\n"
     ]
    },
    {
     "name": "stderr",
     "output_type": "stream",
     "text": [
      " 66%|██████▌   | 64853/98243 [00:49<00:23, 1419.14it/s]"
     ]
    },
    {
     "name": "stdout",
     "output_type": "stream",
     "text": [
      "\u001b[93m  Could not read /home/anvesh/projects/Ibex-Analysis/data_RV32MSingleCycle_080124/seu_2023-12-16_21-27-04.023793/log.txt\u001b[0m\n",
      "\u001b[93m  'utf-8' codec can't decode byte 0x94 in position 6101: invalid start byte\u001b[0m\n"
     ]
    },
    {
     "name": "stderr",
     "output_type": "stream",
     "text": [
      " 67%|██████▋   | 65356/98243 [00:49<00:22, 1483.97it/s]"
     ]
    },
    {
     "name": "stdout",
     "output_type": "stream",
     "text": [
      "\u001b[93m  Could not read /home/anvesh/projects/Ibex-Analysis/data_RV32MSingleCycle_080124/seu_2023-12-29_11-36-30.005452/log.txt\u001b[0m\n",
      "\u001b[93m  'utf-8' codec can't decode byte 0xcc in position 6078: invalid continuation byte\u001b[0m\n",
      "\u001b[93m  Could not read /home/anvesh/projects/Ibex-Analysis/data_RV32MSingleCycle_080124/seu_2023-12-29_10-46-05.367982/log.txt\u001b[0m\n",
      "\u001b[93m  'utf-8' codec can't decode byte 0x8e in position 6559: invalid start byte\u001b[0m\n"
     ]
    },
    {
     "name": "stderr",
     "output_type": "stream",
     "text": [
      " 68%|██████▊   | 66404/98243 [00:50<00:23, 1344.37it/s]"
     ]
    },
    {
     "name": "stdout",
     "output_type": "stream",
     "text": [
      "\u001b[93m  Could not read /home/anvesh/projects/Ibex-Analysis/data_RV32MSingleCycle_080124/seu_2023-12-16_20-14-28.033966/log.txt\u001b[0m\n",
      "\u001b[93m  'utf-8' codec can't decode byte 0xcc in position 6380: invalid continuation byte\u001b[0m\n"
     ]
    },
    {
     "name": "stderr",
     "output_type": "stream",
     "text": [
      " 68%|██████▊   | 66858/98243 [00:54<02:41, 194.25it/s] "
     ]
    },
    {
     "name": "stdout",
     "output_type": "stream",
     "text": [
      "\u001b[93m  Could not read /home/anvesh/projects/Ibex-Analysis/data_RV32MSingleCycle_080124/seu_2023-12-15_21-59-47.126167/log.txt\u001b[0m\n",
      "\u001b[93m  'utf-8' codec can't decode byte 0xcc in position 6380: invalid continuation byte\u001b[0m\n"
     ]
    },
    {
     "name": "stderr",
     "output_type": "stream",
     "text": [
      " 69%|██████▉   | 68177/98243 [00:55<00:28, 1069.49it/s]"
     ]
    },
    {
     "name": "stdout",
     "output_type": "stream",
     "text": [
      "\u001b[93m  Could not read /home/anvesh/projects/Ibex-Analysis/data_RV32MSingleCycle_080124/seu_2023-12-17_10-48-39.530825/log.txt\u001b[0m\n",
      "\u001b[93m  'utf-8' codec can't decode byte 0x94 in position 6101: invalid start byte\u001b[0m\n"
     ]
    },
    {
     "name": "stderr",
     "output_type": "stream",
     "text": [
      " 70%|███████   | 68974/98243 [00:55<00:22, 1304.66it/s]"
     ]
    },
    {
     "name": "stdout",
     "output_type": "stream",
     "text": [
      "\u001b[93m  Could not read /home/anvesh/projects/Ibex-Analysis/data_RV32MSingleCycle_080124/seu_2023-12-18_06-23-19.326866/log.txt\u001b[0m\n",
      "\u001b[93m  'utf-8' codec can't decode byte 0x94 in position 6102: invalid start byte\u001b[0m\n"
     ]
    },
    {
     "name": "stderr",
     "output_type": "stream",
     "text": [
      " 71%|███████   | 69646/98243 [00:56<00:21, 1344.65it/s]"
     ]
    },
    {
     "name": "stdout",
     "output_type": "stream",
     "text": [
      "\u001b[93m  Could not read /home/anvesh/projects/Ibex-Analysis/data_RV32MSingleCycle_080124/seu_2023-12-31_02-24-42.392532/log.txt\u001b[0m\n",
      "\u001b[93m  'utf-8' codec can't decode byte 0x94 in position 6101: invalid start byte\u001b[0m\n"
     ]
    },
    {
     "name": "stderr",
     "output_type": "stream",
     "text": [
      " 72%|███████▏  | 70494/98243 [00:56<00:21, 1299.56it/s]"
     ]
    },
    {
     "name": "stdout",
     "output_type": "stream",
     "text": [
      "\u001b[93m  Could not read /home/anvesh/projects/Ibex-Analysis/data_RV32MSingleCycle_080124/seu_2023-12-15_22-07-11.285056/log.txt\u001b[0m\n",
      "\u001b[93m  'utf-8' codec can't decode byte 0x94 in position 6100: invalid start byte\u001b[0m\n"
     ]
    },
    {
     "name": "stderr",
     "output_type": "stream",
     "text": [
      " 72%|███████▏  | 70986/98243 [00:57<00:18, 1447.92it/s]"
     ]
    },
    {
     "name": "stdout",
     "output_type": "stream",
     "text": [
      "\u001b[93m  Could not read /home/anvesh/projects/Ibex-Analysis/data_RV32MSingleCycle_080124/seu_2023-12-16_16-00-14.025112/log.txt\u001b[0m\n",
      "\u001b[93m  'utf-8' codec can't decode byte 0x93 in position 5951: invalid start byte\u001b[0m\n",
      "\u001b[93m  Could not read /home/anvesh/projects/Ibex-Analysis/data_RV32MSingleCycle_080124/seu_2023-12-18_00-08-20.210331/log.txt\u001b[0m\n",
      "\u001b[93m  'utf-8' codec can't decode byte 0x82 in position 6691: invalid start byte\u001b[0m\n"
     ]
    },
    {
     "name": "stderr",
     "output_type": "stream",
     "text": [
      " 73%|███████▎  | 72100/98243 [00:58<00:18, 1433.92it/s]"
     ]
    },
    {
     "name": "stdout",
     "output_type": "stream",
     "text": [
      "\u001b[93m  Could not read /home/anvesh/projects/Ibex-Analysis/data_RV32MSingleCycle_080124/seu_2023-12-30_23-40-54.849418/log.txt\u001b[0m\n",
      "\u001b[93m  'utf-8' codec can't decode byte 0xfc in position 6450: invalid start byte\u001b[0m\n"
     ]
    },
    {
     "name": "stderr",
     "output_type": "stream",
     "text": [
      " 75%|███████▍  | 73379/98243 [00:59<00:18, 1326.25it/s]"
     ]
    },
    {
     "name": "stdout",
     "output_type": "stream",
     "text": [
      "\u001b[93m  Could not read /home/anvesh/projects/Ibex-Analysis/data_RV32MSingleCycle_080124/seu_2023-12-17_22-32-11.407669/log.txt\u001b[0m\n",
      "\u001b[93m  'utf-8' codec can't decode byte 0x80 in position 6050: invalid start byte\u001b[0m\n"
     ]
    },
    {
     "name": "stderr",
     "output_type": "stream",
     "text": [
      " 76%|███████▌  | 74757/98243 [01:00<00:17, 1371.66it/s]"
     ]
    },
    {
     "name": "stdout",
     "output_type": "stream",
     "text": [
      "\u001b[93m  Could not read /home/anvesh/projects/Ibex-Analysis/data_RV32MSingleCycle_080124/seu_2023-12-31_02-30-26.524669/log.txt\u001b[0m\n",
      "\u001b[93m  'utf-8' codec can't decode byte 0x80 in position 6472: invalid start byte\u001b[0m\n",
      "\u001b[93m  Could not read /home/anvesh/projects/Ibex-Analysis/data_RV32MSingleCycle_080124/seu_2023-12-17_07-21-51.262211/log.txt\u001b[0m\n",
      "\u001b[93m  'utf-8' codec can't decode byte 0x94 in position 6101: invalid start byte\u001b[0m\n"
     ]
    },
    {
     "name": "stderr",
     "output_type": "stream",
     "text": [
      " 78%|███████▊  | 76300/98243 [01:01<00:13, 1603.82it/s]"
     ]
    },
    {
     "name": "stdout",
     "output_type": "stream",
     "text": [
      "\u001b[93m  Could not read /home/anvesh/projects/Ibex-Analysis/data_RV32MSingleCycle_080124/seu_2023-12-15_17-44-03.786463/log.txt\u001b[0m\n",
      "\u001b[93m  'utf-8' codec can't decode byte 0x94 in position 6101: invalid start byte\u001b[0m\n"
     ]
    },
    {
     "name": "stderr",
     "output_type": "stream",
     "text": [
      " 79%|███████▊  | 77181/98243 [01:01<00:12, 1701.72it/s]"
     ]
    },
    {
     "name": "stdout",
     "output_type": "stream",
     "text": [
      "\u001b[93m  Could not read /home/anvesh/projects/Ibex-Analysis/data_RV32MSingleCycle_080124/seu_2023-12-17_06-51-40.129470/log.txt\u001b[0m\n",
      "\u001b[93m  'utf-8' codec can't decode byte 0x94 in position 6102: invalid start byte\u001b[0m\n"
     ]
    },
    {
     "name": "stderr",
     "output_type": "stream",
     "text": [
      " 79%|███████▉  | 77878/98243 [01:02<00:13, 1471.03it/s]"
     ]
    },
    {
     "name": "stdout",
     "output_type": "stream",
     "text": [
      "\u001b[93m  Could not read /home/anvesh/projects/Ibex-Analysis/data_RV32MSingleCycle_080124/seu_2023-12-18_00-54-10.064428/log.txt\u001b[0m\n",
      "\u001b[93m  'utf-8' codec can't decode byte 0xc4 in position 6603: invalid continuation byte\u001b[0m\n",
      "\u001b[93m  Could not read /home/anvesh/projects/Ibex-Analysis/data_RV32MSingleCycle_080124/seu_2023-12-30_17-25-40.778247/log.txt\u001b[0m\n",
      "\u001b[93m  'utf-8' codec can't decode byte 0xe0 in position 6033: invalid continuation byte\u001b[0m\n"
     ]
    },
    {
     "name": "stderr",
     "output_type": "stream",
     "text": [
      " 80%|███████▉  | 78589/98243 [01:02<00:11, 1712.08it/s]"
     ]
    },
    {
     "name": "stdout",
     "output_type": "stream",
     "text": [
      "\u001b[93m  Could not read /home/anvesh/projects/Ibex-Analysis/data_RV32MSingleCycle_080124/seu_2023-12-15_17-47-51.669054/log.txt\u001b[0m\n",
      "\u001b[93m  'utf-8' codec can't decode byte 0xcc in position 6571: invalid continuation byte\u001b[0m\n"
     ]
    },
    {
     "name": "stderr",
     "output_type": "stream",
     "text": [
      " 81%|████████  | 79445/98243 [01:03<00:12, 1527.13it/s]"
     ]
    },
    {
     "name": "stdout",
     "output_type": "stream",
     "text": [
      "\u001b[93m  Could not read /home/anvesh/projects/Ibex-Analysis/data_RV32MSingleCycle_080124/seu_2023-12-18_03-30-04.111728/log.txt\u001b[0m\n",
      "\u001b[93m  'utf-8' codec can't decode byte 0xcc in position 6161: invalid continuation byte\u001b[0m\n"
     ]
    },
    {
     "name": "stderr",
     "output_type": "stream",
     "text": [
      " 81%|████████  | 79773/98243 [01:03<00:13, 1344.55it/s]"
     ]
    },
    {
     "name": "stdout",
     "output_type": "stream",
     "text": [
      "\u001b[93m  Could not read /home/anvesh/projects/Ibex-Analysis/data_RV32MSingleCycle_080124/seu_2023-12-29_15-24-14.874080/log.txt\u001b[0m\n",
      "\u001b[93m  'utf-8' codec can't decode byte 0x94 in position 6102: invalid start byte\u001b[0m\n"
     ]
    },
    {
     "name": "stderr",
     "output_type": "stream",
     "text": [
      " 82%|████████▏ | 81020/98243 [01:04<00:13, 1298.25it/s]"
     ]
    },
    {
     "name": "stdout",
     "output_type": "stream",
     "text": [
      "\u001b[93m  Could not read /home/anvesh/projects/Ibex-Analysis/data_RV32MSingleCycle_080124/seu_2023-12-15_23-58-05.943748/log.txt\u001b[0m\n",
      "\u001b[93m  'utf-8' codec can't decode byte 0xd6 in position 6199: invalid continuation byte\u001b[0m\n"
     ]
    },
    {
     "name": "stderr",
     "output_type": "stream",
     "text": [
      " 83%|████████▎ | 81744/98243 [01:04<00:09, 1665.79it/s]"
     ]
    },
    {
     "name": "stdout",
     "output_type": "stream",
     "text": [
      "\u001b[93m  Could not read /home/anvesh/projects/Ibex-Analysis/data_RV32MSingleCycle_080124/seu_2023-12-31_03-35-54.079709/log.txt\u001b[0m\n",
      "\u001b[93m  'utf-8' codec can't decode byte 0x93 in position 6507: invalid start byte\u001b[0m\n"
     ]
    },
    {
     "name": "stderr",
     "output_type": "stream",
     "text": [
      " 85%|████████▍ | 83301/98243 [01:05<00:09, 1601.26it/s]"
     ]
    },
    {
     "name": "stdout",
     "output_type": "stream",
     "text": [
      "\u001b[93m  Could not read /home/anvesh/projects/Ibex-Analysis/data_RV32MSingleCycle_080124/seu_2023-12-17_14-29-23.259524/log.txt\u001b[0m\n",
      "\u001b[93m  'utf-8' codec can't decode byte 0x91 in position 6355: invalid start byte\u001b[0m\n"
     ]
    },
    {
     "name": "stderr",
     "output_type": "stream",
     "text": [
      " 86%|████████▌ | 84332/98243 [01:06<00:09, 1492.73it/s]"
     ]
    },
    {
     "name": "stdout",
     "output_type": "stream",
     "text": [
      "\u001b[93m  Could not read /home/anvesh/projects/Ibex-Analysis/data_RV32MSingleCycle_080124/seu_2023-12-15_19-09-14.912131/log.txt\u001b[0m\n",
      "\u001b[93m  'utf-8' codec can't decode byte 0xcc in position 6613: invalid continuation byte\u001b[0m\n"
     ]
    },
    {
     "name": "stderr",
     "output_type": "stream",
     "text": [
      " 86%|████████▋ | 84850/98243 [01:06<00:08, 1514.31it/s]"
     ]
    },
    {
     "name": "stdout",
     "output_type": "stream",
     "text": [
      "\u001b[93m  Could not read /home/anvesh/projects/Ibex-Analysis/data_RV32MSingleCycle_080124/seu_2023-12-15_18-24-47.650015/log.txt\u001b[0m\n",
      "\u001b[93m  'utf-8' codec can't decode byte 0x82 in position 6700: invalid start byte\u001b[0m\n"
     ]
    },
    {
     "name": "stderr",
     "output_type": "stream",
     "text": [
      " 87%|████████▋ | 85706/98243 [01:07<00:07, 1611.02it/s]"
     ]
    },
    {
     "name": "stdout",
     "output_type": "stream",
     "text": [
      "\u001b[93m  Could not read /home/anvesh/projects/Ibex-Analysis/data_RV32MSingleCycle_080124/seu_2023-12-30_00-32-23.938217/log.txt\u001b[0m\n",
      "\u001b[93m  'utf-8' codec can't decode byte 0x85 in position 6006: invalid start byte\u001b[0m\n"
     ]
    },
    {
     "name": "stderr",
     "output_type": "stream",
     "text": [
      " 88%|████████▊ | 86939/98243 [01:08<00:06, 1723.03it/s]"
     ]
    },
    {
     "name": "stdout",
     "output_type": "stream",
     "text": [
      "\u001b[93m  Could not read /home/anvesh/projects/Ibex-Analysis/data_RV32MSingleCycle_080124/seu_2023-12-29_20-30-37.037594/log.txt\u001b[0m\n",
      "\u001b[93m  'utf-8' codec can't decode byte 0x94 in position 6102: invalid start byte\u001b[0m\n"
     ]
    },
    {
     "name": "stderr",
     "output_type": "stream",
     "text": [
      " 90%|████████▉ | 88129/98243 [01:08<00:06, 1487.60it/s]"
     ]
    },
    {
     "name": "stdout",
     "output_type": "stream",
     "text": [
      "\u001b[93m  Could not read /home/anvesh/projects/Ibex-Analysis/data_RV32MSingleCycle_080124/seu_2023-12-29_05-43-40.267103/log.txt\u001b[0m\n",
      "\u001b[93m  'utf-8' codec can't decode byte 0xcc in position 6482: invalid continuation byte\u001b[0m\n"
     ]
    },
    {
     "name": "stderr",
     "output_type": "stream",
     "text": [
      " 91%|█████████ | 89318/98243 [01:09<00:05, 1511.94it/s]"
     ]
    },
    {
     "name": "stdout",
     "output_type": "stream",
     "text": [
      "\u001b[93m  Could not read /home/anvesh/projects/Ibex-Analysis/data_RV32MSingleCycle_080124/seu_2023-12-16_01-34-14.793470/log.txt\u001b[0m\n",
      "\u001b[93m  'utf-8' codec can't decode byte 0xcc in position 6380: invalid continuation byte\u001b[0m\n",
      "\u001b[93m  Could not read /home/anvesh/projects/Ibex-Analysis/data_RV32MSingleCycle_080124/seu_2023-12-29_05-06-48.042940/log.txt\u001b[0m\n",
      "\u001b[93m  'utf-8' codec can't decode byte 0xf8 in position 6231: invalid start byte\u001b[0m\n"
     ]
    },
    {
     "name": "stderr",
     "output_type": "stream",
     "text": [
      " 91%|█████████ | 89636/98243 [01:10<00:06, 1288.98it/s]"
     ]
    },
    {
     "name": "stdout",
     "output_type": "stream",
     "text": [
      "\u001b[93m  Could not read /home/anvesh/projects/Ibex-Analysis/data_RV32MSingleCycle_080124/seu_2023-12-17_19-31-08.700651/log.txt\u001b[0m\n",
      "\u001b[93m  'utf-8' codec can't decode byte 0x94 in position 6102: invalid start byte\u001b[0m\n"
     ]
    },
    {
     "name": "stderr",
     "output_type": "stream",
     "text": [
      " 92%|█████████▏| 90314/98243 [01:10<00:05, 1329.77it/s]"
     ]
    },
    {
     "name": "stdout",
     "output_type": "stream",
     "text": [
      "\u001b[93m  Could not read /home/anvesh/projects/Ibex-Analysis/data_RV32MSingleCycle_080124/seu_2023-12-29_15-28-11.349400/log.txt\u001b[0m\n",
      "\u001b[93m  'utf-8' codec can't decode byte 0xcc in position 6686: invalid continuation byte\u001b[0m\n"
     ]
    },
    {
     "name": "stderr",
     "output_type": "stream",
     "text": [
      " 95%|█████████▍| 93323/98243 [01:13<00:05, 908.00it/s] "
     ]
    },
    {
     "name": "stdout",
     "output_type": "stream",
     "text": [
      "\u001b[93m  Could not read /home/anvesh/projects/Ibex-Analysis/data_RV32MSingleCycle_080124/seu_2023-12-16_22-09-15.774796/log.txt\u001b[0m\n",
      "\u001b[93m  'utf-8' codec can't decode byte 0x82 in position 6715: invalid start byte\u001b[0m\n",
      "\u001b[93m  Could not read /home/anvesh/projects/Ibex-Analysis/data_RV32MSingleCycle_080124/seu_2023-12-17_04-55-24.484701/log.txt\u001b[0m\n",
      "\u001b[93m  'utf-8' codec can't decode byte 0xcc in position 6571: invalid continuation byte\u001b[0m\n"
     ]
    },
    {
     "name": "stderr",
     "output_type": "stream",
     "text": [
      " 99%|█████████▊| 96926/98243 [01:15<00:00, 1441.59it/s]"
     ]
    },
    {
     "name": "stdout",
     "output_type": "stream",
     "text": [
      "\u001b[93m  Could not read /home/anvesh/projects/Ibex-Analysis/data_RV32MSingleCycle_080124/seu_2023-12-31_09-16-32.254028/log.txt\u001b[0m\n",
      "\u001b[93m  'utf-8' codec can't decode byte 0xc8 in position 6125: invalid continuation byte\u001b[0m\n",
      "\u001b[93m  Could not read /home/anvesh/projects/Ibex-Analysis/data_RV32MSingleCycle_080124/seu_2023-12-16_22-50-20.859533/log.txt\u001b[0m\n",
      "\u001b[93m  'utf-8' codec can't decode byte 0xcc in position 6379: invalid continuation byte\u001b[0m\n",
      "\u001b[93m  Could not read /home/anvesh/projects/Ibex-Analysis/data_RV32MSingleCycle_080124/seu_2023-12-31_07-09-38.258987/log.txt\u001b[0m\n",
      "\u001b[93m  'utf-8' codec can't decode byte 0x94 in position 6100: invalid start byte\u001b[0m\n",
      "\u001b[93m  Could not read /home/anvesh/projects/Ibex-Analysis/data_RV32MSingleCycle_080124/seu_2023-12-16_08-58-02.524412/log.txt\u001b[0m\n",
      "\u001b[93m  'utf-8' codec can't decode byte 0x94 in position 6101: invalid start byte\u001b[0m\n"
     ]
    },
    {
     "name": "stderr",
     "output_type": "stream",
     "text": [
      "100%|█████████▉| 98024/98243 [01:16<00:00, 1440.51it/s]"
     ]
    },
    {
     "name": "stdout",
     "output_type": "stream",
     "text": [
      "\u001b[93m  Could not read /home/anvesh/projects/Ibex-Analysis/data_RV32MSingleCycle_080124/seu_2023-12-29_13-11-09.982644/log.txt\u001b[0m\n",
      "\u001b[93m  'utf-8' codec can't decode byte 0x94 in position 6102: invalid start byte\u001b[0m\n"
     ]
    },
    {
     "name": "stderr",
     "output_type": "stream",
     "text": [
      "100%|██████████| 98243/98243 [01:16<00:00, 1278.76it/s]\n"
     ]
    },
    {
     "name": "stdout",
     "output_type": "stream",
     "text": [
      "\u001b[1m\u001b[93m  Parsed 94587 logs, percent failed reads: 0.12%\u001b[0m\n",
      "\u001b[95mDone parsing SEU logs\u001b[0m\n",
      "\u001b[95mBuilding register tree\u001b[0m\n",
      "\u001b[93m  68.94% of the register tree is unpopulated\u001b[0m\n",
      "\u001b[95mBuilt register tree\u001b[0m\n",
      "Saved RV32MSingleCycle.picle to cache.\n"
     ]
    }
   ],
   "source": [
    "for data_set, runinfo_path in data_sets.items():\n",
    "    runinfo = RunInfo(runinfo_path)\n",
    "    data_interface = DataInterface(runinfo)\n",
    "    golden = data_interface.golden_log\n",
    "    node = data_interface.get_node_by_name(\"register_file_i\")[0]\n",
    "    root = data_interface.root\n",
    "    node_data = data_interface.get_seu_log_by_node(node)\n",
    "    root_data = data_interface.get_seu_log_by_node(root)\n",
    "    node_runs = list(node_data.index)\n",
    "    pickle_dict = {\"root\" : root, \"node\" : node, \"root_data\" : root_data, \"node_data\" : node_data, \"golden\" : golden}\n",
    "    pickle.dump(pickle_dict, open(f\"cache/{data_set}.pickle\", \"wb\"))\n",
    "    print(f\"Saved {data_set}.pickle to cache.\")"
   ]
  },
  {
   "cell_type": "markdown",
   "metadata": {},
   "source": [
    "## Load Cached Data"
   ]
  },
  {
   "cell_type": "code",
   "execution_count": null,
   "metadata": {},
   "outputs": [],
   "source": [
    "RV32MSingleCycle = pickle.load(open(\"cache/RV32MSingleCycle.pickle\", \"rb\"))\n",
    "\n",
    "root = RV32MSingleCycle[\"root\"]\n",
    "node = RV32MSingleCycle[\"node\"]\n",
    "root_data = RV32MSingleCycle[\"root_data\"]\n",
    "node_data = RV32MSingleCycle[\"node_data\"]\n",
    "golden = RV32MSingleCycle[\"golden\"]\n"
   ]
  },
  {
   "cell_type": "code",
   "execution_count": 25,
   "metadata": {},
   "outputs": [
    {
     "name": "stdout",
     "output_type": "stream",
     "text": [
      "Number of entries on node_data: 32213\n",
      "Number of entries on root_data: 94587\n"
     ]
    },
    {
     "data": {
      "text/html": [
       "<div>\n",
       "<style scoped>\n",
       "    .dataframe tbody tr th:only-of-type {\n",
       "        vertical-align: middle;\n",
       "    }\n",
       "\n",
       "    .dataframe tbody tr th {\n",
       "        vertical-align: top;\n",
       "    }\n",
       "\n",
       "    .dataframe thead th {\n",
       "        text-align: right;\n",
       "    }\n",
       "</style>\n",
       "<table border=\"1\" class=\"dataframe\">\n",
       "  <thead>\n",
       "    <tr style=\"text-align: right;\">\n",
       "      <th></th>\n",
       "      <th>register</th>\n",
       "      <th>register_delimiter</th>\n",
       "      <th>injection_cycle</th>\n",
       "      <th>bit_number</th>\n",
       "      <th>value_before</th>\n",
       "      <th>value_after</th>\n",
       "      <th>uvm_seed</th>\n",
       "      <th>seed_crc</th>\n",
       "      <th>list_crc</th>\n",
       "      <th>matrix_crc</th>\n",
       "      <th>state_crc</th>\n",
       "      <th>final_crc</th>\n",
       "    </tr>\n",
       "  </thead>\n",
       "  <tbody>\n",
       "    <tr>\n",
       "      <th>seu_2023-12-30_17-28-18.265941</th>\n",
       "      <td>ibex_soc_wrap.ibex_soc_i.ibex_wrap.u_top.u_ibe...</td>\n",
       "      <td>0-beta4  Date: 2022-04-12</td>\n",
       "      <td>390656</td>\n",
       "      <td>7</td>\n",
       "      <td>8203f868</td>\n",
       "      <td>8203f8e8</td>\n",
       "      <td>84702572\u001b[0m</td>\n",
       "      <td>0xe9f5</td>\n",
       "      <td>0xe714</td>\n",
       "      <td>0x1fd7</td>\n",
       "      <td>0x8e3a</td>\n",
       "      <td>0xe714</td>\n",
       "    </tr>\n",
       "    <tr>\n",
       "      <th>seu_2023-12-16_21-07-58.165943</th>\n",
       "      <td>ibex_soc_wrap.ibex_soc_i.ibex_wrap.u_top.u_ibe...</td>\n",
       "      <td>0-beta4  Date: 2022-04-12</td>\n",
       "      <td>45916</td>\n",
       "      <td>28</td>\n",
       "      <td>00000030</td>\n",
       "      <td>10000030</td>\n",
       "      <td>2109266481\u001b[0m</td>\n",
       "      <td>0xe9f5</td>\n",
       "      <td>0xe714</td>\n",
       "      <td>0x1fd7</td>\n",
       "      <td>0x8e3a</td>\n",
       "      <td>0xe714</td>\n",
       "    </tr>\n",
       "    <tr>\n",
       "      <th>seu_2023-12-17_22-14-35.838746</th>\n",
       "      <td>ibex_soc_wrap.ibex_soc_i.ibex_wrap.u_top.u_ibe...</td>\n",
       "      <td>0-beta4  Date: 2022-04-12</td>\n",
       "      <td>65209.5</td>\n",
       "      <td>16</td>\n",
       "      <td>00000001</td>\n",
       "      <td>00010001</td>\n",
       "      <td>715275877\u001b[0m</td>\n",
       "      <td>0xe9f5</td>\n",
       "      <td>0xe714</td>\n",
       "      <td>0x1fd7</td>\n",
       "      <td>0x8e3a</td>\n",
       "      <td>0xe714</td>\n",
       "    </tr>\n",
       "    <tr>\n",
       "      <th>seu_2023-12-17_20-41-58.444854</th>\n",
       "      <td>ibex_soc_wrap.ibex_soc_i.ibex_wrap.u_top.u_ibe...</td>\n",
       "      <td>0-beta4  Date: 2022-04-12</td>\n",
       "      <td>40907.5</td>\n",
       "      <td>9</td>\n",
       "      <td>00000001</td>\n",
       "      <td>00000201</td>\n",
       "      <td>1531173778\u001b[0m</td>\n",
       "      <td>0xe9f5</td>\n",
       "      <td>0xe714</td>\n",
       "      <td>0x1fd7</td>\n",
       "      <td>0x8e3a</td>\n",
       "      <td>0xe714</td>\n",
       "    </tr>\n",
       "    <tr>\n",
       "      <th>seu_2023-12-17_06-02-16.545382</th>\n",
       "      <td>ibex_soc_wrap.ibex_soc_i.ibex_wrap.u_top.u_ibe...</td>\n",
       "      <td>0-beta4  Date: 2022-04-12</td>\n",
       "      <td>419817</td>\n",
       "      <td>12</td>\n",
       "      <td>00006180</td>\n",
       "      <td>00007180</td>\n",
       "      <td>1517452793\u001b[0m</td>\n",
       "      <td>0xe9f5</td>\n",
       "      <td>0xe714</td>\n",
       "      <td>0x1fd7</td>\n",
       "      <td>0x8e3a</td>\n",
       "      <td>0xe714</td>\n",
       "    </tr>\n",
       "  </tbody>\n",
       "</table>\n",
       "</div>"
      ],
      "text/plain": [
       "                                                                         register  \\\n",
       "seu_2023-12-30_17-28-18.265941  ibex_soc_wrap.ibex_soc_i.ibex_wrap.u_top.u_ibe...   \n",
       "seu_2023-12-16_21-07-58.165943  ibex_soc_wrap.ibex_soc_i.ibex_wrap.u_top.u_ibe...   \n",
       "seu_2023-12-17_22-14-35.838746  ibex_soc_wrap.ibex_soc_i.ibex_wrap.u_top.u_ibe...   \n",
       "seu_2023-12-17_20-41-58.444854  ibex_soc_wrap.ibex_soc_i.ibex_wrap.u_top.u_ibe...   \n",
       "seu_2023-12-17_06-02-16.545382  ibex_soc_wrap.ibex_soc_i.ibex_wrap.u_top.u_ibe...   \n",
       "\n",
       "                                       register_delimiter injection_cycle  \\\n",
       "seu_2023-12-30_17-28-18.265941  0-beta4  Date: 2022-04-12          390656   \n",
       "seu_2023-12-16_21-07-58.165943  0-beta4  Date: 2022-04-12           45916   \n",
       "seu_2023-12-17_22-14-35.838746  0-beta4  Date: 2022-04-12         65209.5   \n",
       "seu_2023-12-17_20-41-58.444854  0-beta4  Date: 2022-04-12         40907.5   \n",
       "seu_2023-12-17_06-02-16.545382  0-beta4  Date: 2022-04-12          419817   \n",
       "\n",
       "                               bit_number value_before value_after  \\\n",
       "seu_2023-12-30_17-28-18.265941          7     8203f868    8203f8e8   \n",
       "seu_2023-12-16_21-07-58.165943         28     00000030    10000030   \n",
       "seu_2023-12-17_22-14-35.838746         16     00000001    00010001   \n",
       "seu_2023-12-17_20-41-58.444854          9     00000001    00000201   \n",
       "seu_2023-12-17_06-02-16.545382         12     00006180    00007180   \n",
       "\n",
       "                                      uvm_seed seed_crc list_crc matrix_crc  \\\n",
       "seu_2023-12-30_17-28-18.265941    84702572\u001b[0m   0xe9f5   0xe714     0x1fd7   \n",
       "seu_2023-12-16_21-07-58.165943  2109266481\u001b[0m   0xe9f5   0xe714     0x1fd7   \n",
       "seu_2023-12-17_22-14-35.838746   715275877\u001b[0m   0xe9f5   0xe714     0x1fd7   \n",
       "seu_2023-12-17_20-41-58.444854  1531173778\u001b[0m   0xe9f5   0xe714     0x1fd7   \n",
       "seu_2023-12-17_06-02-16.545382  1517452793\u001b[0m   0xe9f5   0xe714     0x1fd7   \n",
       "\n",
       "                               state_crc final_crc  \n",
       "seu_2023-12-30_17-28-18.265941    0x8e3a    0xe714  \n",
       "seu_2023-12-16_21-07-58.165943    0x8e3a    0xe714  \n",
       "seu_2023-12-17_22-14-35.838746    0x8e3a    0xe714  \n",
       "seu_2023-12-17_20-41-58.444854    0x8e3a    0xe714  \n",
       "seu_2023-12-17_06-02-16.545382    0x8e3a    0xe714  "
      ]
     },
     "execution_count": 25,
     "metadata": {},
     "output_type": "execute_result"
    }
   ],
   "source": [
    "print(f\"Number of entries on node_data: {len(node_data)}\")\n",
    "print(f\"Number of entries on root_data: {len(root_data)}\")\n",
    "\n",
    "node_data.head()"
   ]
  },
  {
   "cell_type": "code",
   "execution_count": 32,
   "metadata": {},
   "outputs": [
    {
     "name": "stderr",
     "output_type": "stream",
     "text": [
      "/home/anvesh/projects/Ibex-Analysis/src/analysis/base_tools.py:266: UserWarning: FigureCanvasAgg is non-interactive, and thus cannot be shown\n",
      "  \n",
      "/home/anvesh/projects/Ibex-Analysis/src/analysis/base_tools.py:214: UserWarning: FigureCanvasAgg is non-interactive, and thus cannot be shown\n",
      "  \n",
      "/home/anvesh/projects/Ibex-Analysis/src/analysis/base_tools.py:266: UserWarning: FigureCanvasAgg is non-interactive, and thus cannot be shown\n",
      "  \n"
     ]
    },
    {
     "ename": "ConversionError",
     "evalue": "Failed to convert value(s) to axis units: ['rf_reg[31]', 'rf_reg[30]', 'rf_reg[29]', 'rf_reg[28]', 'rf_reg[27]', 'rf_reg[26]', 'rf_reg[25]', 'rf_reg[24]', 'rf_reg[23]', 'rf_reg[22]', 'rf_reg[21]', 'rf_reg[20]', 'rf_reg[19]', 'rf_reg[18]', 'rf_reg[17]', 'rf_reg[16]', 'rf_reg[15]', 'rf_reg[14]', 'rf_reg[13]', 'rf_reg[12]', 'rf_reg[11]', 'rf_reg[10]', 'rf_reg[9]', 'rf_reg[8]', 'rf_reg[7]', 'rf_reg[6]', 'rf_reg[5]', 'rf_reg[4]', 'rf_reg[3]', 'rf_reg[2]', 'rf_reg[1]', 'rf_reg[0]']",
     "output_type": "error",
     "traceback": [
      "\u001b[0;31m---------------------------------------------------------------------------\u001b[0m",
      "\u001b[0;31mValueError\u001b[0m                                Traceback (most recent call last)",
      "File \u001b[0;32m~/projects/Ibex-Analysis/.venv/lib/python3.11/site-packages/matplotlib/axis.py:1769\u001b[0m, in \u001b[0;36mAxis.convert_units\u001b[0;34m(self, x)\u001b[0m\n\u001b[1;32m   1768\u001b[0m \u001b[38;5;28;01mtry\u001b[39;00m:\n\u001b[0;32m-> 1769\u001b[0m     ret \u001b[38;5;241m=\u001b[39m \u001b[38;5;28;43mself\u001b[39;49m\u001b[38;5;241;43m.\u001b[39;49m\u001b[43mconverter\u001b[49m\u001b[38;5;241;43m.\u001b[39;49m\u001b[43mconvert\u001b[49m\u001b[43m(\u001b[49m\u001b[43mx\u001b[49m\u001b[43m,\u001b[49m\u001b[43m \u001b[49m\u001b[38;5;28;43mself\u001b[39;49m\u001b[38;5;241;43m.\u001b[39;49m\u001b[43munits\u001b[49m\u001b[43m,\u001b[49m\u001b[43m \u001b[49m\u001b[38;5;28;43mself\u001b[39;49m\u001b[43m)\u001b[49m\n\u001b[1;32m   1770\u001b[0m \u001b[38;5;28;01mexcept\u001b[39;00m \u001b[38;5;167;01mException\u001b[39;00m \u001b[38;5;28;01mas\u001b[39;00m e:\n",
      "File \u001b[0;32m~/projects/Ibex-Analysis/.venv/lib/python3.11/site-packages/matplotlib/category.py:49\u001b[0m, in \u001b[0;36mStrCategoryConverter.convert\u001b[0;34m(value, unit, axis)\u001b[0m\n\u001b[1;32m     48\u001b[0m \u001b[38;5;28;01mif\u001b[39;00m unit \u001b[38;5;129;01mis\u001b[39;00m \u001b[38;5;28;01mNone\u001b[39;00m:\n\u001b[0;32m---> 49\u001b[0m     \u001b[38;5;28;01mraise\u001b[39;00m \u001b[38;5;167;01mValueError\u001b[39;00m(\n\u001b[1;32m     50\u001b[0m         \u001b[38;5;124m'\u001b[39m\u001b[38;5;124mMissing category information for StrCategoryConverter; \u001b[39m\u001b[38;5;124m'\u001b[39m\n\u001b[1;32m     51\u001b[0m         \u001b[38;5;124m'\u001b[39m\u001b[38;5;124mthis might be caused by unintendedly mixing categorical and \u001b[39m\u001b[38;5;124m'\u001b[39m\n\u001b[1;32m     52\u001b[0m         \u001b[38;5;124m'\u001b[39m\u001b[38;5;124mnumeric data\u001b[39m\u001b[38;5;124m'\u001b[39m)\n\u001b[1;32m     53\u001b[0m StrCategoryConverter\u001b[38;5;241m.\u001b[39m_validate_unit(unit)\n",
      "\u001b[0;31mValueError\u001b[0m: Missing category information for StrCategoryConverter; this might be caused by unintendedly mixing categorical and numeric data",
      "\nThe above exception was the direct cause of the following exception:\n",
      "\u001b[0;31mConversionError\u001b[0m                           Traceback (most recent call last)",
      "Cell \u001b[0;32mIn[32], line 12\u001b[0m\n\u001b[1;32m      8\u001b[0m _ \u001b[38;5;241m=\u001b[39m BaseTools\u001b[38;5;241m.\u001b[39merror_classification_confidence(data_interface, node, visualize\u001b[38;5;241m=\u001b[39m\u001b[38;5;28;01mTrue\u001b[39;00m)\n\u001b[1;32m      9\u001b[0m _ \u001b[38;5;241m=\u001b[39m BaseTools\u001b[38;5;241m.\u001b[39mexpected_num_multi_injection_runs(\n\u001b[1;32m     10\u001b[0m     \u001b[38;5;241m500_000\u001b[39m, \u001b[38;5;241m2200\u001b[39m, [\u001b[38;5;241m100\u001b[39m, \u001b[38;5;241m100_000\u001b[39m], visualize\u001b[38;5;241m=\u001b[39m\u001b[38;5;28;01mTrue\u001b[39;00m\n\u001b[1;32m     11\u001b[0m )\n\u001b[0;32m---> 12\u001b[0m _ \u001b[38;5;241m=\u001b[39m \u001b[43mIbexCoremarkTools\u001b[49m\u001b[38;5;241;43m.\u001b[39;49m\u001b[43mstacked_register_error_class\u001b[49m\u001b[43m(\u001b[49m\n\u001b[1;32m     13\u001b[0m \u001b[43m    \u001b[49m\u001b[43mdata_interface\u001b[49m\u001b[43m,\u001b[49m\u001b[43m \u001b[49m\u001b[43mnode\u001b[49m\u001b[43m,\u001b[49m\u001b[43m \u001b[49m\u001b[43mvisualize\u001b[49m\u001b[38;5;241;43m=\u001b[39;49m\u001b[38;5;28;43;01mTrue\u001b[39;49;00m\n\u001b[1;32m     14\u001b[0m \u001b[43m)\u001b[49m\n",
      "File \u001b[0;32m~/projects/Ibex-Analysis/src/analysis/ibex_coremark_tools.py:69\u001b[0m, in \u001b[0;36mIbexCoremarkTools.stacked_register_error_class\u001b[0;34m(cls, data_interface, node, visualize)\u001b[0m\n\u001b[1;32m     67\u001b[0m ax\u001b[38;5;241m.\u001b[39mset_ylabel(\u001b[38;5;124m\"\u001b[39m\u001b[38;5;124mProportion of errors\u001b[39m\u001b[38;5;124m\"\u001b[39m)\n\u001b[1;32m     68\u001b[0m ax\u001b[38;5;241m.\u001b[39mset_xlabel(\u001b[38;5;124m\"\u001b[39m\u001b[38;5;124mRegister\u001b[39m\u001b[38;5;124m\"\u001b[39m)\n\u001b[0;32m---> 69\u001b[0m \u001b[43mplt\u001b[49m\u001b[38;5;241;43m.\u001b[39;49m\u001b[43mxticks\u001b[49m\u001b[43m(\u001b[49m\u001b[38;5;28;43mlist\u001b[39;49m\u001b[43m(\u001b[49m\u001b[43mregfile_name_map_ibex\u001b[49m\u001b[38;5;241;43m.\u001b[39;49m\u001b[43mkeys\u001b[49m\u001b[43m(\u001b[49m\u001b[43m)\u001b[49m\u001b[43m)\u001b[49m\u001b[43m,\u001b[49m\u001b[43m \u001b[49m\u001b[38;5;28;43mlist\u001b[39;49m\u001b[43m(\u001b[49m\u001b[43mregfile_name_map_ibex\u001b[49m\u001b[38;5;241;43m.\u001b[39;49m\u001b[43mvalues\u001b[49m\u001b[43m(\u001b[49m\u001b[43m)\u001b[49m\u001b[43m)\u001b[49m\u001b[43m)\u001b[49m\n\u001b[1;32m     70\u001b[0m plt\u001b[38;5;241m.\u001b[39mxticks(rotation\u001b[38;5;241m=\u001b[39m\u001b[38;5;241m45\u001b[39m, ha\u001b[38;5;241m=\u001b[39m\u001b[38;5;124m\"\u001b[39m\u001b[38;5;124mright\u001b[39m\u001b[38;5;124m\"\u001b[39m)\n\u001b[1;32m     72\u001b[0m fig\u001b[38;5;241m.\u001b[39mshow()\n",
      "File \u001b[0;32m~/projects/Ibex-Analysis/.venv/lib/python3.11/site-packages/matplotlib/pyplot.py:2045\u001b[0m, in \u001b[0;36mxticks\u001b[0;34m(ticks, labels, minor, **kwargs)\u001b[0m\n\u001b[1;32m   2042\u001b[0m         \u001b[38;5;28;01mraise\u001b[39;00m \u001b[38;5;167;01mTypeError\u001b[39;00m(\u001b[38;5;124m\"\u001b[39m\u001b[38;5;124mxticks(): Parameter \u001b[39m\u001b[38;5;124m'\u001b[39m\u001b[38;5;124mlabels\u001b[39m\u001b[38;5;124m'\u001b[39m\u001b[38;5;124m can\u001b[39m\u001b[38;5;124m'\u001b[39m\u001b[38;5;124mt be set \u001b[39m\u001b[38;5;124m\"\u001b[39m\n\u001b[1;32m   2043\u001b[0m                         \u001b[38;5;124m\"\u001b[39m\u001b[38;5;124mwithout setting \u001b[39m\u001b[38;5;124m'\u001b[39m\u001b[38;5;124mticks\u001b[39m\u001b[38;5;124m'\u001b[39m\u001b[38;5;124m\"\u001b[39m)\n\u001b[1;32m   2044\u001b[0m \u001b[38;5;28;01melse\u001b[39;00m:\n\u001b[0;32m-> 2045\u001b[0m     locs \u001b[38;5;241m=\u001b[39m \u001b[43max\u001b[49m\u001b[38;5;241;43m.\u001b[39;49m\u001b[43mset_xticks\u001b[49m\u001b[43m(\u001b[49m\u001b[43mticks\u001b[49m\u001b[43m,\u001b[49m\u001b[43m \u001b[49m\u001b[43mminor\u001b[49m\u001b[38;5;241;43m=\u001b[39;49m\u001b[43mminor\u001b[49m\u001b[43m)\u001b[49m\n\u001b[1;32m   2047\u001b[0m labels_out: \u001b[38;5;28mlist\u001b[39m[Text] \u001b[38;5;241m=\u001b[39m []\n\u001b[1;32m   2048\u001b[0m \u001b[38;5;28;01mif\u001b[39;00m labels \u001b[38;5;129;01mis\u001b[39;00m \u001b[38;5;28;01mNone\u001b[39;00m:\n",
      "File \u001b[0;32m~/projects/Ibex-Analysis/.venv/lib/python3.11/site-packages/matplotlib/axes/_base.py:73\u001b[0m, in \u001b[0;36m_axis_method_wrapper.__set_name__.<locals>.wrapper\u001b[0;34m(self, *args, **kwargs)\u001b[0m\n\u001b[1;32m     72\u001b[0m \u001b[38;5;28;01mdef\u001b[39;00m \u001b[38;5;21mwrapper\u001b[39m(\u001b[38;5;28mself\u001b[39m, \u001b[38;5;241m*\u001b[39margs, \u001b[38;5;241m*\u001b[39m\u001b[38;5;241m*\u001b[39mkwargs):\n\u001b[0;32m---> 73\u001b[0m     \u001b[38;5;28;01mreturn\u001b[39;00m \u001b[43mget_method\u001b[49m\u001b[43m(\u001b[49m\u001b[38;5;28;43mself\u001b[39;49m\u001b[43m)\u001b[49m\u001b[43m(\u001b[49m\u001b[38;5;241;43m*\u001b[39;49m\u001b[43margs\u001b[49m\u001b[43m,\u001b[49m\u001b[43m \u001b[49m\u001b[38;5;241;43m*\u001b[39;49m\u001b[38;5;241;43m*\u001b[39;49m\u001b[43mkwargs\u001b[49m\u001b[43m)\u001b[49m\n",
      "File \u001b[0;32m~/projects/Ibex-Analysis/.venv/lib/python3.11/site-packages/matplotlib/axis.py:2138\u001b[0m, in \u001b[0;36mAxis.set_ticks\u001b[0;34m(self, ticks, labels, minor, **kwargs)\u001b[0m\n\u001b[1;32m   2133\u001b[0m     first_key \u001b[38;5;241m=\u001b[39m \u001b[38;5;28mnext\u001b[39m(\u001b[38;5;28miter\u001b[39m(kwargs))\n\u001b[1;32m   2134\u001b[0m     \u001b[38;5;28;01mraise\u001b[39;00m \u001b[38;5;167;01mValueError\u001b[39;00m(\n\u001b[1;32m   2135\u001b[0m         \u001b[38;5;124mf\u001b[39m\u001b[38;5;124m\"\u001b[39m\u001b[38;5;124mIncorrect use of keyword argument \u001b[39m\u001b[38;5;132;01m{\u001b[39;00mfirst_key\u001b[38;5;132;01m!r}\u001b[39;00m\u001b[38;5;124m. Keyword arguments \u001b[39m\u001b[38;5;124m\"\u001b[39m\n\u001b[1;32m   2136\u001b[0m         \u001b[38;5;124m\"\u001b[39m\u001b[38;5;124mother than \u001b[39m\u001b[38;5;124m'\u001b[39m\u001b[38;5;124mminor\u001b[39m\u001b[38;5;124m'\u001b[39m\u001b[38;5;124m modify the text labels and can only be used if \u001b[39m\u001b[38;5;124m\"\u001b[39m\n\u001b[1;32m   2137\u001b[0m         \u001b[38;5;124m\"\u001b[39m\u001b[38;5;124m'\u001b[39m\u001b[38;5;124mlabels\u001b[39m\u001b[38;5;124m'\u001b[39m\u001b[38;5;124m are passed as well.\u001b[39m\u001b[38;5;124m\"\u001b[39m)\n\u001b[0;32m-> 2138\u001b[0m result \u001b[38;5;241m=\u001b[39m \u001b[38;5;28;43mself\u001b[39;49m\u001b[38;5;241;43m.\u001b[39;49m\u001b[43m_set_tick_locations\u001b[49m\u001b[43m(\u001b[49m\u001b[43mticks\u001b[49m\u001b[43m,\u001b[49m\u001b[43m \u001b[49m\u001b[43mminor\u001b[49m\u001b[38;5;241;43m=\u001b[39;49m\u001b[43mminor\u001b[49m\u001b[43m)\u001b[49m\n\u001b[1;32m   2139\u001b[0m \u001b[38;5;28;01mif\u001b[39;00m labels \u001b[38;5;129;01mis\u001b[39;00m \u001b[38;5;129;01mnot\u001b[39;00m \u001b[38;5;28;01mNone\u001b[39;00m:\n\u001b[1;32m   2140\u001b[0m     \u001b[38;5;28mself\u001b[39m\u001b[38;5;241m.\u001b[39mset_ticklabels(labels, minor\u001b[38;5;241m=\u001b[39mminor, \u001b[38;5;241m*\u001b[39m\u001b[38;5;241m*\u001b[39mkwargs)\n",
      "File \u001b[0;32m~/projects/Ibex-Analysis/.venv/lib/python3.11/site-packages/matplotlib/axis.py:2077\u001b[0m, in \u001b[0;36mAxis._set_tick_locations\u001b[0;34m(self, ticks, minor)\u001b[0m\n\u001b[1;32m   2073\u001b[0m \u001b[38;5;28;01mdef\u001b[39;00m \u001b[38;5;21m_set_tick_locations\u001b[39m(\u001b[38;5;28mself\u001b[39m, ticks, \u001b[38;5;241m*\u001b[39m, minor\u001b[38;5;241m=\u001b[39m\u001b[38;5;28;01mFalse\u001b[39;00m):\n\u001b[1;32m   2074\u001b[0m     \u001b[38;5;66;03m# see docstring of set_ticks\u001b[39;00m\n\u001b[1;32m   2075\u001b[0m \n\u001b[1;32m   2076\u001b[0m     \u001b[38;5;66;03m# XXX if the user changes units, the information will be lost here\u001b[39;00m\n\u001b[0;32m-> 2077\u001b[0m     ticks \u001b[38;5;241m=\u001b[39m \u001b[38;5;28;43mself\u001b[39;49m\u001b[38;5;241;43m.\u001b[39;49m\u001b[43mconvert_units\u001b[49m\u001b[43m(\u001b[49m\u001b[43mticks\u001b[49m\u001b[43m)\u001b[49m\n\u001b[1;32m   2078\u001b[0m     locator \u001b[38;5;241m=\u001b[39m mticker\u001b[38;5;241m.\u001b[39mFixedLocator(ticks)  \u001b[38;5;66;03m# validate ticks early.\u001b[39;00m\n\u001b[1;32m   2079\u001b[0m     \u001b[38;5;28;01mif\u001b[39;00m \u001b[38;5;28mlen\u001b[39m(ticks):\n",
      "File \u001b[0;32m~/projects/Ibex-Analysis/.venv/lib/python3.11/site-packages/matplotlib/axis.py:1771\u001b[0m, in \u001b[0;36mAxis.convert_units\u001b[0;34m(self, x)\u001b[0m\n\u001b[1;32m   1769\u001b[0m     ret \u001b[38;5;241m=\u001b[39m \u001b[38;5;28mself\u001b[39m\u001b[38;5;241m.\u001b[39mconverter\u001b[38;5;241m.\u001b[39mconvert(x, \u001b[38;5;28mself\u001b[39m\u001b[38;5;241m.\u001b[39munits, \u001b[38;5;28mself\u001b[39m)\n\u001b[1;32m   1770\u001b[0m \u001b[38;5;28;01mexcept\u001b[39;00m \u001b[38;5;167;01mException\u001b[39;00m \u001b[38;5;28;01mas\u001b[39;00m e:\n\u001b[0;32m-> 1771\u001b[0m     \u001b[38;5;28;01mraise\u001b[39;00m munits\u001b[38;5;241m.\u001b[39mConversionError(\u001b[38;5;124m'\u001b[39m\u001b[38;5;124mFailed to convert value(s) to axis \u001b[39m\u001b[38;5;124m'\u001b[39m\n\u001b[1;32m   1772\u001b[0m                                  \u001b[38;5;124mf\u001b[39m\u001b[38;5;124m'\u001b[39m\u001b[38;5;124munits: \u001b[39m\u001b[38;5;132;01m{\u001b[39;00mx\u001b[38;5;132;01m!r}\u001b[39;00m\u001b[38;5;124m'\u001b[39m) \u001b[38;5;28;01mfrom\u001b[39;00m \u001b[38;5;21;01me\u001b[39;00m\n\u001b[1;32m   1773\u001b[0m \u001b[38;5;28;01mreturn\u001b[39;00m ret\n",
      "\u001b[0;31mConversionError\u001b[0m: Failed to convert value(s) to axis units: ['rf_reg[31]', 'rf_reg[30]', 'rf_reg[29]', 'rf_reg[28]', 'rf_reg[27]', 'rf_reg[26]', 'rf_reg[25]', 'rf_reg[24]', 'rf_reg[23]', 'rf_reg[22]', 'rf_reg[21]', 'rf_reg[20]', 'rf_reg[19]', 'rf_reg[18]', 'rf_reg[17]', 'rf_reg[16]', 'rf_reg[15]', 'rf_reg[14]', 'rf_reg[13]', 'rf_reg[12]', 'rf_reg[11]', 'rf_reg[10]', 'rf_reg[9]', 'rf_reg[8]', 'rf_reg[7]', 'rf_reg[6]', 'rf_reg[5]', 'rf_reg[4]', 'rf_reg[3]', 'rf_reg[2]', 'rf_reg[1]', 'rf_reg[0]']"
     ]
    },
    {
     "data": {
      "image/png": "[encoded data removed]",
      "text/plain": [
       "<Figure size 640x480 with 1 Axes>"
      ]
     },
     "metadata": {},
     "output_type": "display_data"
    },
    {
     "data": {
      "image/png": "[encoded data removed]",
      "text/plain": [
       "<Figure size 640x480 with 1 Axes>"
      ]
     },
     "metadata": {},
     "output_type": "display_data"
    },
    {
     "data": {
      "image/png": "[encoded data removed]",
      "text/plain": [
       "<Figure size 640x480 with 1 Axes>"
      ]
     },
     "metadata": {},
     "output_type": "display_data"
    },
    {
     "data": {
      "image/png": "[encoded data removed]",
      "text/plain": [
       "<Figure size 640x480 with 1 Axes>"
      ]
     },
     "metadata": {},
     "output_type": "display_data"
    },
    {
     "data": {
      "image/png": "[encoded data removed]",
      "text/plain": [
       "<Figure size 640x480 with 1 Axes>"
      ]
     },
     "metadata": {},
     "output_type": "display_data"
    }
   ],
   "source": [
    "node_runs = list(node_data.index)\n",
    "\n",
    "_ = BaseTools.error_classification_confidence(data_interface, root, visualize=True)\n",
    "\n",
    "_ = BaseTools.windowed_error_rate(\n",
    "    data_interface, root, \"injection_cycle\", visualize=True, window_size=200\n",
    ")\n",
    "_ = BaseTools.error_classification_confidence(data_interface, node, visualize=True)\n",
    "_ = BaseTools.expected_num_multi_injection_runs(\n",
    "    500_000, 2200, [100, 100_000], visualize=True\n",
    ")\n"
   ]
  },
  {
   "cell_type": "code",
   "execution_count": 36,
   "metadata": {},
   "outputs": [
    {
     "name": "stderr",
     "output_type": "stream",
     "text": [
      "/home/anvesh/projects/Ibex-Analysis/src/analysis/ibex_coremark_tools.py:73: UserWarning: FigureCanvasAgg is non-interactive, and thus cannot be shown\n",
      "  \n"
     ]
    },
    {
     "data": {
      "image/png": "[encoded data removed]",
      "text/plain": [
       "<Figure size 640x480 with 1 Axes>"
      ]
     },
     "metadata": {},
     "output_type": "display_data"
    }
   ],
   "source": [
    "node = data_interface.get_node_by_name(\"register_file_i\")[0]\n",
    "node.children\n",
    "_, fig = IbexCoremarkTools.stacked_register_error_class(\n",
    "    data_interface, node, visualize=True\n",
    ")\n"
   ]
  }
 ],
 "metadata": {
  "kernelspec": {
   "display_name": ".venv",
   "language": "python",
   "name": "python3"
  },
  "language_info": {
   "codemirror_mode": {
    "name": "ipython",
    "version": 3
   },
   "file_extension": ".py",
   "mimetype": "text/x-python",
   "name": "python",
   "nbconvert_exporter": "python",
   "pygments_lexer": "ipython3",
   "version": "3.11.3"
  }
 },
 "nbformat": 4,
 "nbformat_minor": 2
}
