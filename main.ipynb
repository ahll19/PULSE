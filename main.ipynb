{
 "cells": [
  {
   "cell_type": "markdown",
   "metadata": {},
   "source": [
    "# Example documentation\n",
    "Below is (some) of the structure of this repository. What is excluded is not directly important to this example documentation\n",
    "```\n",
    ".\n",
    "├── main.ipynb\n",
    "└── src\n",
    "    ├── analysis_tools.py\n",
    "    ├── data_interface.py\n",
    "    ├── data_parser.py\n",
    "    ├── error_definitions.py\n",
    "    └── run_info\n",
    "        ├── ibex_coremark.ini\n",
    "        ├── run_info.py\n",
    "        └── sections.py\n",
    "```\n",
    "## Run info\n",
    "In the `run_info` directory there are 3 files. The file `ibex_coremark.ini` file is the configuration of a given type of run on some given hardware (in this case the ibex soc, with coremark running). This file should function as a template for other configurations. There are 4 sections in the config:\n",
    "- `DATA`\n",
    "  - Every field in this section MUST be filled, and point to a valid directory / file (except timeout, which is only used if you want to only read logs for some max amount of time).\n",
    "- `DEBUG`\n",
    "  - Every field in this section MUST be filled, and be either 0 or 1.\n",
    "  - Debugging for different parts of the parsing can be turned on. If you are brave enough you can also add debugging options rather easily to other parts of the code\n",
    "- `COMPARISON_DATA`\n",
    "  - This section is used to define what data should be pulled from the logs.\n",
    "  - The data specified in this section must be present in a full seu run (where the logs aren't cut off early), and the golden run.\n",
    "  - If a line in this section is e.g. `matrix_crc=[0]crcmatrix` the tool will create a variable in python called `matrix_crc` (on the run_info object). The data-parser will then find the first line in the log matching `[0]crcmatrix`. The parser will split this line by the string `[0]crcmatrix`, and take the second entry (if the string `[0]crcmatrix` appears multiple times only this second entry in the split line will be saved).\n",
    "  - This parsed value will then be stored.\n",
    "- `SEU_METADATA`\n",
    "  - This section is for defining data unique to the seu runs, which we want to save.\n",
    "  - The parsing and saving is done by the same method as in `COMPARISON_DATA`\n",
    "  - There MUST be an entry in this section called `register` which defines where we inject on the chip. If this line is not defined the tool will not run.\n",
    "\n",
    "The `sections.py` file defines behavior for each of the sections defined above. The `run_info.py` collects these sections into an object which can be used in the analysis tools, and by the user to check run configurations.\n",
    "\n",
    "The `RunInfo` object should only really be interacted with for debugging purposes (making sure the `register` match string is correct for example)\n",
    "\n",
    "## Data Interface\n",
    "The data interface is the object the user should be interacting with.\n",
    "\n",
    "It holds the `seu_log` and `golden_log` objects which will be needed to do analysis. It also holds a reference to the root of the register tree.\n",
    "\n",
    "### Register tree\n",
    "The register tree is created from the vpi register list (pointed at by the `vpi` entry in the `[DATA]` section).\n",
    "\n",
    "The register tree is a hierarchy of the different elements in the chip. The root corresponds to the highest level of the chip, and has all components of the chip as children.\n",
    "\n",
    "A given node represents a part (e.g. register or ip block) of the chip. We use these nodes to query the seu_log for data that is within that branch of the tree.\n",
    "\n",
    "### seu_log and golden_log\n",
    "The seu_log object is an instance of the seu_log class. This class is a wrapper around the standard pandas dataframe, extended with a name attribute (mainly used in plotting and such).\n",
    "\n",
    "The golden log holds the information we got from the golden run, which we use for comparison against the seu runs.\n",
    "\n",
    "## Analysis tools\n",
    "more docs to follow"
   ]
  },
  {
   "cell_type": "code",
   "execution_count": 1,
   "metadata": {},
   "outputs": [],
   "source": [
    "from src import DataInterface, RunInfo, BaseTools"
   ]
  },
  {
   "cell_type": "markdown",
   "metadata": {},
   "source": [
    "### Showcasing the runinfo object\n",
    "again, direct interaction is only useful in debugging"
   ]
  },
  {
   "cell_type": "code",
   "execution_count": 2,
   "metadata": {},
   "outputs": [
    {
     "name": "stdout",
     "output_type": "stream",
     "text": [
      "['seed_crc', 'list_crc', 'matrix_crc', 'state_crc', 'final_crc']\n",
      "[0]crcmatrix\n",
      "True\n"
     ]
    }
   ],
   "source": [
    "runinfo = RunInfo(\"src/run_info/ibex_coremark.ini\")\n",
    "\n",
    "print(runinfo.comparison_data.entries)\n",
    "print(runinfo.comparison_data.matrix_crc)\n",
    "print(runinfo.debug.percent_failed_reads)"
   ]
  },
  {
   "cell_type": "markdown",
   "metadata": {},
   "source": [
    "### Instantiating via the runinfo object\n",
    "the data_interface is generated by passing the runinfo object, created by the config file.\n",
    "\n",
    "This is where much of the debugging is happening as of now"
   ]
  },
  {
   "cell_type": "code",
   "execution_count": 3,
   "metadata": {},
   "outputs": [
    {
     "name": "stdout",
     "output_type": "stream",
     "text": [
      "\u001b[95mParsin SEU logs...\u001b[0m\n",
      "\u001b[93m  Could not read /home/anders/Git/Ibex-Analysis/data/seu_2023-09-15_08-24-25.058795/log.txt\u001b[0m\n",
      "\u001b[93m  'utf-8' codec can't decode byte 0xcc in position 5835: invalid continuation byte\u001b[0m\n",
      "\u001b[93m  Could not read /home/anders/Git/Ibex-Analysis/data/seu_2023-09-12_23-41-25.090640/log.txt\u001b[0m\n",
      "\u001b[93m  'utf-8' codec can't decode byte 0xcc in position 6110: invalid continuation byte\u001b[0m\n",
      "\u001b[93m  Could not read /home/anders/Git/Ibex-Analysis/data/seu_2023-09-12_22-05-06.376439/log.txt\u001b[0m\n",
      "\u001b[93m  'utf-8' codec can't decode byte 0xcc in position 6483: invalid continuation byte\u001b[0m\n"
     ]
    },
    {
     "name": "stdout",
     "output_type": "stream",
     "text": [
      "\u001b[93m  Could not read /home/anders/Git/Ibex-Analysis/data/seu_2023-09-18_12-37-30.570476/log.txt\u001b[0m\n",
      "\u001b[93m  'utf-8' codec can't decode byte 0xcc in position 5742: invalid continuation byte\u001b[0m\n",
      "\u001b[93m  Could not read /home/anders/Git/Ibex-Analysis/data/seu_2023-09-17_15-09-31.286638/log.txt\u001b[0m\n",
      "\u001b[93m  'utf-8' codec can't decode byte 0xcc in position 5835: invalid continuation byte\u001b[0m\n",
      "\u001b[93m  Could not read /home/anders/Git/Ibex-Analysis/data/seu_2023-09-16_18-42-29.461108/log.txt\u001b[0m\n",
      "\u001b[93m  'utf-8' codec can't decode byte 0xc0 in position 6040: invalid start byte\u001b[0m\n",
      "\u001b[93m  Could not read /home/anders/Git/Ibex-Analysis/data/seu_2023-09-12_03-37-48.758019/log.txt\u001b[0m\n",
      "\u001b[93m  'utf-8' codec can't decode byte 0xc0 in position 6838: invalid start byte\u001b[0m\n",
      "\u001b[93m  Could not read /home/anders/Git/Ibex-Analysis/data/seu_2023-09-18_17-51-15.194228/log.txt\u001b[0m\n",
      "\u001b[93m  'utf-8' codec can't decode byte 0xcc in position 6110: invalid continuation byte\u001b[0m\n",
      "\u001b[93m  Could not read /home/anders/Git/Ibex-Analysis/data/seu_2023-09-12_05-41-15.224915/log.txt\u001b[0m\n",
      "\u001b[93m  'utf-8' codec can't decode byte 0x86 in position 6667: invalid start byte\u001b[0m\n",
      "\u001b[93m  Could not read /home/anders/Git/Ibex-Analysis/data/seu_2023-09-11_23-51-08.068444/log.txt\u001b[0m\n",
      "\u001b[93m  'utf-8' codec can't decode byte 0x91 in position 6663: invalid start byte\u001b[0m\n",
      "\u001b[93m  Could not read /home/anders/Git/Ibex-Analysis/data/seu_2023-09-17_13-06-16.266829/log.txt\u001b[0m\n",
      "\u001b[93m  'utf-8' codec can't decode byte 0xcc in position 6111: invalid continuation byte\u001b[0m\n",
      "\u001b[93m  Could not read /home/anders/Git/Ibex-Analysis/data/seu_2023-09-18_13-19-16.098695/log.txt\u001b[0m\n",
      "\u001b[93m  'utf-8' codec can't decode byte 0xcc in position 6439: invalid continuation byte\u001b[0m\n",
      "\u001b[93m  Could not read /home/anders/Git/Ibex-Analysis/data/seu_2023-09-15_06-35-06.827606/log.txt\u001b[0m\n",
      "\u001b[93m  'utf-8' codec can't decode byte 0xcc in position 6427: invalid continuation byte\u001b[0m\n",
      "\u001b[93m  Could not read /home/anders/Git/Ibex-Analysis/data/seu_2023-09-14_02-07-09.546356/log.txt\u001b[0m\n",
      "\u001b[93m  'utf-8' codec can't decode byte 0xcc in position 5810: invalid continuation byte\u001b[0m\n",
      "\u001b[93m  Could not read /home/anders/Git/Ibex-Analysis/data/seu_2023-09-16_20-23-13.644044/log.txt\u001b[0m\n",
      "\u001b[93m  'utf-8' codec can't decode byte 0xcc in position 5787: invalid continuation byte\u001b[0m\n",
      "\u001b[93m  Could not read /home/anders/Git/Ibex-Analysis/data/seu_2023-09-14_20-28-28.204315/log.txt\u001b[0m\n",
      "\u001b[93m  'utf-8' codec can't decode byte 0xcc in position 5955: invalid continuation byte\u001b[0m\n",
      "\u001b[93m  Could not read /home/anders/Git/Ibex-Analysis/data/seu_2023-09-15_23-14-59.955397/log.txt\u001b[0m\n",
      "\u001b[93m  'utf-8' codec can't decode byte 0xcc in position 6033: invalid continuation byte\u001b[0m\n",
      "\u001b[93m  Could not read /home/anders/Git/Ibex-Analysis/data/seu_2023-09-18_16-24-35.109132/log.txt\u001b[0m\n",
      "\u001b[93m  'utf-8' codec can't decode byte 0xcc in position 6384: invalid continuation byte\u001b[0m\n",
      "\u001b[93m  Could not read /home/anders/Git/Ibex-Analysis/data/seu_2023-09-16_04-01-17.914882/log.txt\u001b[0m\n",
      "\u001b[93m  'utf-8' codec can't decode byte 0xcc in position 6383: invalid continuation byte\u001b[0m\n",
      "\u001b[93m  Could not read /home/anders/Git/Ibex-Analysis/data/seu_2023-09-15_09-22-56.056877/log.txt\u001b[0m\n",
      "\u001b[93m  'utf-8' codec can't decode byte 0xcc in position 6457: invalid continuation byte\u001b[0m\n",
      "\u001b[93m  Could not read /home/anders/Git/Ibex-Analysis/data/seu_2023-09-16_06-49-11.060161/log.txt\u001b[0m\n",
      "\u001b[93m  'utf-8' codec can't decode byte 0xcc in position 6110: invalid continuation byte\u001b[0m\n",
      "\u001b[93m  Could not read /home/anders/Git/Ibex-Analysis/data/seu_2023-09-13_02-48-17.476679/log.txt\u001b[0m\n",
      "\u001b[93m  'utf-8' codec can't decode byte 0xcc in position 6111: invalid continuation byte\u001b[0m\n",
      "\u001b[93m  Could not read /home/anders/Git/Ibex-Analysis/data/seu_2023-09-15_02-32-27.424325/log.txt\u001b[0m\n",
      "\u001b[93m  'utf-8' codec can't decode byte 0xcc in position 6457: invalid continuation byte\u001b[0m\n",
      "\u001b[93m  Could not read /home/anders/Git/Ibex-Analysis/data/seu_2023-09-16_19-00-49.097800/log.txt\u001b[0m\n",
      "\u001b[93m  'utf-8' codec can't decode byte 0xcc in position 5743: invalid continuation byte\u001b[0m\n",
      "\u001b[93m  Could not read /home/anders/Git/Ibex-Analysis/data/seu_2023-09-15_23-18-29.811946/log.txt\u001b[0m\n",
      "\u001b[93m  'utf-8' codec can't decode byte 0xcc in position 6302: invalid continuation byte\u001b[0m\n",
      "\u001b[93m  Could not read /home/anders/Git/Ibex-Analysis/data/seu_2023-09-18_12-45-36.542871/log.txt\u001b[0m\n",
      "\u001b[93m  'utf-8' codec can't decode byte 0xcc in position 6058: invalid continuation byte\u001b[0m\n",
      "\u001b[93m  Could not read /home/anders/Git/Ibex-Analysis/data/seu_2023-09-13_15-00-48.659307/log.txt\u001b[0m\n",
      "\u001b[93m  'utf-8' codec can't decode byte 0xcc in position 6032: invalid continuation byte\u001b[0m\n",
      "\u001b[93m  Could not read /home/anders/Git/Ibex-Analysis/data/seu_2023-09-17_09-33-38.229090/log.txt\u001b[0m\n",
      "\u001b[93m  'utf-8' codec can't decode byte 0x94 in position 5706: invalid start byte\u001b[0m\n",
      "\u001b[93m  Could not read /home/anders/Git/Ibex-Analysis/data/seu_2023-09-12_18-03-51.764209/log.txt\u001b[0m\n",
      "\u001b[93m  'utf-8' codec can't decode byte 0xcc in position 6183: invalid continuation byte\u001b[0m\n",
      "\u001b[93m  Could not read /home/anders/Git/Ibex-Analysis/data/seu_2023-09-18_16-07-13.906396/log.txt\u001b[0m\n",
      "\u001b[93m  'utf-8' codec can't decode byte 0xcc in position 6484: invalid continuation byte\u001b[0m\n",
      "\u001b[93m  Could not read /home/anders/Git/Ibex-Analysis/data/seu_2023-09-12_03-38-05.156683/log.txt\u001b[0m\n",
      "\u001b[93m  'utf-8' codec can't decode byte 0x94 in position 6246: invalid start byte\u001b[0m\n",
      "\u001b[93m  Could not read /home/anders/Git/Ibex-Analysis/data/seu_2023-09-14_18-26-26.665873/log.txt\u001b[0m\n",
      "\u001b[93m  'utf-8' codec can't decode byte 0xcc in position 6439: invalid continuation byte\u001b[0m\n",
      "\u001b[93m  Could not read /home/anders/Git/Ibex-Analysis/data/seu_2023-09-13_05-00-17.054822/log.txt\u001b[0m\n",
      "\u001b[93m  'utf-8' codec can't decode byte 0xcc in position 5836: invalid continuation byte\u001b[0m\n",
      "\u001b[93m  Could not read /home/anders/Git/Ibex-Analysis/data/seu_2023-09-15_02-03-02.412665/log.txt\u001b[0m\n",
      "\u001b[93m  'utf-8' codec can't decode byte 0xcc in position 5892: invalid continuation byte\u001b[0m\n",
      "\u001b[93m  Could not read /home/anders/Git/Ibex-Analysis/data/seu_2023-09-17_18-20-35.676124/log.txt\u001b[0m\n",
      "\u001b[93m  'utf-8' codec can't decode byte 0x82 in position 6289: invalid start byte\u001b[0m\n",
      "\u001b[93m  Could not read /home/anders/Git/Ibex-Analysis/data/seu_2023-09-18_16-03-45.739001/log.txt\u001b[0m\n",
      "\u001b[93m  'utf-8' codec can't decode byte 0xcc in position 6383: invalid continuation byte\u001b[0m\n",
      "\u001b[93m  Could not read /home/anders/Git/Ibex-Analysis/data/seu_2023-09-18_03-05-59.347112/log.txt\u001b[0m\n",
      "\u001b[93m  'utf-8' codec can't decode byte 0xcc in position 6408: invalid continuation byte\u001b[0m\n",
      "\u001b[93m  Could not read /home/anders/Git/Ibex-Analysis/data/seu_2023-09-16_18-07-46.419124/log.txt\u001b[0m\n",
      "\u001b[93m  'utf-8' codec can't decode byte 0xc8 in position 5852: invalid continuation byte\u001b[0m\n",
      "\u001b[93m  Could not read /home/anders/Git/Ibex-Analysis/data/seu_2023-09-18_12-57-14.062406/log.txt\u001b[0m\n",
      "\u001b[93m  'utf-8' codec can't decode byte 0xcc in position 6111: invalid continuation byte\u001b[0m\n",
      "\u001b[93m  Could not read /home/anders/Git/Ibex-Analysis/data/seu_2023-09-17_03-27-48.441371/log.txt\u001b[0m\n",
      "\u001b[93m  'utf-8' codec can't decode byte 0xcc in position 6111: invalid continuation byte\u001b[0m\n",
      "\u001b[93m  Could not read /home/anders/Git/Ibex-Analysis/data/seu_2023-09-16_10-34-35.557354/log.txt\u001b[0m\n",
      "\u001b[93m  'utf-8' codec can't decode byte 0xcc in position 6085: invalid continuation byte\u001b[0m\n",
      "\u001b[93m  Could not read /home/anders/Git/Ibex-Analysis/data/seu_2023-09-13_22-25-54.609039/log.txt\u001b[0m\n",
      "\u001b[93m  'utf-8' codec can't decode byte 0xcc in position 6111: invalid continuation byte\u001b[0m\n",
      "\u001b[93m  Could not read /home/anders/Git/Ibex-Analysis/data/seu_2023-09-19_06-26-55.365783/log.txt\u001b[0m\n",
      "\u001b[93m  'utf-8' codec can't decode byte 0x81 in position 5876: invalid start byte\u001b[0m\n",
      "\u001b[93m  Could not read /home/anders/Git/Ibex-Analysis/data/seu_2023-09-15_19-57-22.669746/log.txt\u001b[0m\n",
      "\u001b[93m  'utf-8' codec can't decode byte 0xcc in position 6006: invalid continuation byte\u001b[0m\n",
      "\u001b[93m  Could not read /home/anders/Git/Ibex-Analysis/data/seu_2023-09-18_20-09-47.628316/log.txt\u001b[0m\n",
      "\u001b[93m  'utf-8' codec can't decode byte 0xcc in position 6084: invalid continuation byte\u001b[0m\n",
      "\u001b[93m  Could not read /home/anders/Git/Ibex-Analysis/data/seu_2023-09-13_17-20-02.357915/log.txt\u001b[0m\n",
      "\u001b[93m  'utf-8' codec can't decode byte 0xcc in position 5935: invalid continuation byte\u001b[0m\n",
      "\u001b[93m  Could not read /home/anders/Git/Ibex-Analysis/data/seu_2023-09-15_00-59-41.700364/log.txt\u001b[0m\n",
      "\u001b[93m  'utf-8' codec can't decode byte 0xcc in position 5742: invalid continuation byte\u001b[0m\n",
      "\u001b[93m  Could not read /home/anders/Git/Ibex-Analysis/data/seu_2023-09-12_14-22-26.501373/log.txt\u001b[0m\n",
      "\u001b[93m  'utf-8' codec can't decode byte 0xcc in position 5787: invalid continuation byte\u001b[0m\n",
      "\u001b[93m  Could not read /home/anders/Git/Ibex-Analysis/data/seu_2023-09-14_10-53-41.032881/log.txt\u001b[0m\n",
      "\u001b[93m  'utf-8' codec can't decode byte 0xcc in position 5864: invalid continuation byte\u001b[0m\n",
      "\u001b[93m  Could not read /home/anders/Git/Ibex-Analysis/data/seu_2023-09-18_02-07-41.963488/log.txt\u001b[0m\n",
      "\u001b[93m  'utf-8' codec can't decode byte 0xc8 in position 5852: invalid continuation byte\u001b[0m\n",
      "\u001b[93m  Could not read /home/anders/Git/Ibex-Analysis/data/seu_2023-09-17_21-02-22.698013/log.txt\u001b[0m\n",
      "\u001b[93m  'utf-8' codec can't decode byte 0xcc in position 6182: invalid continuation byte\u001b[0m\n",
      "\u001b[93m  Could not read /home/anders/Git/Ibex-Analysis/data/seu_2023-09-14_23-47-55.690613/log.txt\u001b[0m\n",
      "\u001b[93m  'utf-8' codec can't decode byte 0xcc in position 6084: invalid continuation byte\u001b[0m\n",
      "\u001b[93m  Could not read /home/anders/Git/Ibex-Analysis/data/seu_2023-09-12_21-28-20.083214/log.txt\u001b[0m\n",
      "\u001b[93m  'utf-8' codec can't decode byte 0xcc in position 6006: invalid continuation byte\u001b[0m\n",
      "\u001b[93m  Could not read /home/anders/Git/Ibex-Analysis/data/seu_2023-09-15_17-07-30.643441/log.txt\u001b[0m\n",
      "\u001b[93m  'utf-8' codec can't decode byte 0x81 in position 6444: invalid start byte\u001b[0m\n",
      "\u001b[93m  Could not read /home/anders/Git/Ibex-Analysis/data/seu_2023-09-13_02-06-02.510169/log.txt\u001b[0m\n",
      "\u001b[93m  'utf-8' codec can't decode byte 0xcc in position 6182: invalid continuation byte\u001b[0m\n",
      "\u001b[93m  Could not read /home/anders/Git/Ibex-Analysis/data/seu_2023-09-15_11-21-42.627432/log.txt\u001b[0m\n",
      "\u001b[93m  'utf-8' codec can't decode byte 0xcc in position 6344: invalid continuation byte\u001b[0m\n",
      "\u001b[93m  Could not read /home/anders/Git/Ibex-Analysis/data/seu_2023-09-15_06-08-33.686871/log.txt\u001b[0m\n",
      "\u001b[93m  'utf-8' codec can't decode byte 0xcc in position 5981: invalid continuation byte\u001b[0m\n",
      "\u001b[93m  Could not read /home/anders/Git/Ibex-Analysis/data/seu_2023-09-16_00-02-19.865441/log.txt\u001b[0m\n",
      "\u001b[93m  'utf-8' codec can't decode byte 0xcc in position 6183: invalid continuation byte\u001b[0m\n",
      "\u001b[93m  Could not read /home/anders/Git/Ibex-Analysis/data/seu_2023-09-15_13-05-46.457423/log.txt\u001b[0m\n",
      "\u001b[93m  'utf-8' codec can't decode byte 0xcc in position 5892: invalid continuation byte\u001b[0m\n",
      "\u001b[93m  Could not read /home/anders/Git/Ibex-Analysis/data/seu_2023-09-12_18-21-30.446823/log.txt\u001b[0m\n",
      "\u001b[93m  'utf-8' codec can't decode byte 0xcc in position 6033: invalid continuation byte\u001b[0m\n",
      "\u001b[93m  Could not read /home/anders/Git/Ibex-Analysis/data/seu_2023-09-15_15-40-58.248164/log.txt\u001b[0m\n",
      "\u001b[93m  'utf-8' codec can't decode byte 0xcc in position 6007: invalid continuation byte\u001b[0m\n",
      "\u001b[93m  Could not read /home/anders/Git/Ibex-Analysis/data/seu_2023-09-18_05-18-12.912996/log.txt\u001b[0m\n",
      "\u001b[93m  'utf-8' codec can't decode byte 0xcc in position 5955: invalid continuation byte\u001b[0m\n",
      "\u001b[93m  Could not read /home/anders/Git/Ibex-Analysis/data/seu_2023-09-15_06-03-56.087472/log.txt\u001b[0m\n",
      "\u001b[93m  'utf-8' codec can't decode byte 0x82 in position 6421: invalid start byte\u001b[0m\n",
      "\u001b[93m  Could not read /home/anders/Git/Ibex-Analysis/data/seu_2023-09-17_03-43-42.972493/log.txt\u001b[0m\n",
      "\u001b[93m  'utf-8' codec can't decode byte 0xd8 in position 6044: invalid continuation byte\u001b[0m\n",
      "\u001b[93m  Could not read /home/anders/Git/Ibex-Analysis/data/seu_2023-09-16_22-24-59.571481/log.txt\u001b[0m\n",
      "\u001b[93m  'utf-8' codec can't decode byte 0x94 in position 5706: invalid start byte\u001b[0m\n",
      "\u001b[93m  Could not read /home/anders/Git/Ibex-Analysis/data/seu_2023-09-13_03-35-47.445446/log.txt\u001b[0m\n",
      "\u001b[93m  'utf-8' codec can't decode byte 0xcc in position 5935: invalid continuation byte\u001b[0m\n",
      "\u001b[93m  Could not read /home/anders/Git/Ibex-Analysis/data/seu_2023-09-12_02-35-00.467140/log.txt\u001b[0m\n",
      "\u001b[93m  'utf-8' codec can't decode byte 0x81 in position 6287: invalid start byte\u001b[0m\n",
      "\u001b[93m  Could not read /home/anders/Git/Ibex-Analysis/data/seu_2023-09-17_06-45-44.820411/log.txt\u001b[0m\n",
      "\u001b[93m  'utf-8' codec can't decode byte 0xcc in position 5912: invalid continuation byte\u001b[0m\n",
      "\u001b[93m  Could not read /home/anders/Git/Ibex-Analysis/data/seu_2023-09-16_17-33-57.450918/log.txt\u001b[0m\n",
      "\u001b[93m  'utf-8' codec can't decode byte 0xcc in position 6006: invalid continuation byte\u001b[0m\n",
      "\u001b[93m  Could not read /home/anders/Git/Ibex-Analysis/data/seu_2023-09-16_22-56-15.548745/log.txt\u001b[0m\n",
      "\u001b[93m  'utf-8' codec can't decode byte 0xcc in position 6399: invalid continuation byte\u001b[0m\n",
      "\u001b[93m  Could not read /home/anders/Git/Ibex-Analysis/data/seu_2023-09-12_21-14-59.677306/log.txt\u001b[0m\n",
      "\u001b[93m  'utf-8' codec can't decode byte 0xcc in position 5787: invalid continuation byte\u001b[0m\n",
      "\u001b[93m  Could not read /home/anders/Git/Ibex-Analysis/data/seu_2023-09-18_05-01-48.993913/log.txt\u001b[0m\n",
      "\u001b[93m  'utf-8' codec can't decode byte 0xcc in position 6213: invalid continuation byte\u001b[0m\n",
      "\u001b[93m  Could not read /home/anders/Git/Ibex-Analysis/data/seu_2023-09-13_17-16-14.285034/log.txt\u001b[0m\n",
      "\u001b[93m  'utf-8' codec can't decode byte 0xc8 in position 5852: invalid continuation byte\u001b[0m\n",
      "\u001b[93m  Could not read /home/anders/Git/Ibex-Analysis/data/seu_2023-09-15_05-40-27.899938/log.txt\u001b[0m\n",
      "\u001b[93m  'utf-8' codec can't decode byte 0x82 in position 6425: invalid start byte\u001b[0m\n",
      "\u001b[93m  Could not read /home/anders/Git/Ibex-Analysis/data/seu_2023-09-13_05-07-46.178822/log.txt\u001b[0m\n",
      "\u001b[93m  'utf-8' codec can't decode byte 0xcc in position 5935: invalid continuation byte\u001b[0m\n",
      "\u001b[93m  Could not read /home/anders/Git/Ibex-Analysis/data/seu_2023-09-12_18-37-17.970600/log.txt\u001b[0m\n",
      "\u001b[93m  'utf-8' codec can't decode byte 0xcc in position 5936: invalid continuation byte\u001b[0m\n",
      "\u001b[93m  Could not read /home/anders/Git/Ibex-Analysis/data/seu_2023-09-16_12-56-35.624451/log.txt\u001b[0m\n",
      "\u001b[93m  'utf-8' codec can't decode byte 0xcc in position 6302: invalid continuation byte\u001b[0m\n",
      "\u001b[93m  Could not read /home/anders/Git/Ibex-Analysis/data/seu_2023-09-17_11-24-17.712738/log.txt\u001b[0m\n",
      "\u001b[93m  'utf-8' codec can't decode byte 0xcc in position 6483: invalid continuation byte\u001b[0m\n",
      "\u001b[93m  Could not read /home/anders/Git/Ibex-Analysis/data/seu_2023-09-13_00-31-19.347033/log.txt\u001b[0m\n",
      "\u001b[93m  'utf-8' codec can't decode byte 0xcc in position 6111: invalid continuation byte\u001b[0m\n",
      "\u001b[93m  Could not read /home/anders/Git/Ibex-Analysis/data/seu_2023-09-17_19-41-27.506776/log.txt\u001b[0m\n",
      "\u001b[93m  'utf-8' codec can't decode byte 0xcc in position 5956: invalid continuation byte\u001b[0m\n",
      "\u001b[93m  Could not read /home/anders/Git/Ibex-Analysis/data/seu_2023-09-18_22-36-49.589561/log.txt\u001b[0m\n",
      "\u001b[93m  'utf-8' codec can't decode byte 0xcc in position 6384: invalid continuation byte\u001b[0m\n",
      "\u001b[93m  Could not read /home/anders/Git/Ibex-Analysis/data/seu_2023-09-11_21-40-23.658291/log.txt\u001b[0m\n",
      "\u001b[93m  'utf-8' codec can't decode byte 0xcc in position 6681: invalid continuation byte\u001b[0m\n",
      "\u001b[93m  Could not read /home/anders/Git/Ibex-Analysis/data/seu_2023-09-13_05-09-12.774769/log.txt\u001b[0m\n",
      "\u001b[93m  'utf-8' codec can't decode byte 0xcc in position 6371: invalid continuation byte\u001b[0m\n",
      "\u001b[93m  Could not read /home/anders/Git/Ibex-Analysis/data/seu_2023-09-18_17-30-55.088302/log.txt\u001b[0m\n",
      "\u001b[93m  'utf-8' codec can't decode byte 0x94 in position 5706: invalid start byte\u001b[0m\n",
      "\u001b[93m  Could not read /home/anders/Git/Ibex-Analysis/data/seu_2023-09-19_03-00-57.088377/log.txt\u001b[0m\n",
      "\u001b[93m  'utf-8' codec can't decode byte 0x82 in position 6462: invalid start byte\u001b[0m\n",
      "\u001b[93m  Could not read /home/anders/Git/Ibex-Analysis/data/seu_2023-09-12_04-46-16.675791/log.txt\u001b[0m\n",
      "\u001b[93m  'utf-8' codec can't decode byte 0xc8 in position 6422: invalid continuation byte\u001b[0m\n",
      "\u001b[93m  Could not read /home/anders/Git/Ibex-Analysis/data/seu_2023-09-17_11-08-53.402755/log.txt\u001b[0m\n",
      "\u001b[93m  'utf-8' codec can't decode byte 0xcc in position 6457: invalid continuation byte\u001b[0m\n",
      "\u001b[93m  Could not read /home/anders/Git/Ibex-Analysis/data/seu_2023-09-13_01-02-50.998746/log.txt\u001b[0m\n",
      "\u001b[93m  'utf-8' codec can't decode byte 0xcc in position 6111: invalid continuation byte\u001b[0m\n",
      "\u001b[93m  Could not read /home/anders/Git/Ibex-Analysis/data/seu_2023-09-12_00-56-22.520606/log.txt\u001b[0m\n",
      "\u001b[93m  'utf-8' codec can't decode byte 0x94 in position 6246: invalid start byte\u001b[0m\n",
      "\u001b[93m  Could not read /home/anders/Git/Ibex-Analysis/data/seu_2023-09-14_17-38-52.422151/log.txt\u001b[0m\n",
      "\u001b[93m  'utf-8' codec can't decode byte 0xcc in position 6007: invalid continuation byte\u001b[0m\n",
      "\u001b[93m  Could not read /home/anders/Git/Ibex-Analysis/data/seu_2023-09-12_20-08-50.623091/log.txt\u001b[0m\n",
      "\u001b[93m  'utf-8' codec can't decode byte 0xcc in position 6384: invalid continuation byte\u001b[0m\n",
      "\u001b[93m  Could not read /home/anders/Git/Ibex-Analysis/data/seu_2023-09-18_02-42-00.052859/log.txt\u001b[0m\n",
      "\u001b[93m  'utf-8' codec can't decode byte 0xcc in position 6484: invalid continuation byte\u001b[0m\n",
      "\u001b[93m  Could not read /home/anders/Git/Ibex-Analysis/data/seu_2023-09-16_03-39-34.130686/log.txt\u001b[0m\n",
      "\u001b[93m  'utf-8' codec can't decode byte 0xcc in position 6033: invalid continuation byte\u001b[0m\n",
      "\u001b[93m  Could not read /home/anders/Git/Ibex-Analysis/data/seu_2023-09-18_10-59-56.862273/log.txt\u001b[0m\n",
      "\u001b[93m  'utf-8' codec can't decode byte 0xcc in position 6301: invalid continuation byte\u001b[0m\n",
      "\u001b[93m  Could not read /home/anders/Git/Ibex-Analysis/data/seu_2023-09-15_22-20-03.260797/log.txt\u001b[0m\n",
      "\u001b[93m  'utf-8' codec can't decode byte 0xcc in position 5913: invalid continuation byte\u001b[0m\n",
      "\u001b[93m  Could not read /home/anders/Git/Ibex-Analysis/data/seu_2023-09-12_16-22-10.337529/log.txt\u001b[0m\n",
      "\u001b[93m  'utf-8' codec can't decode byte 0xcc in position 6301: invalid continuation byte\u001b[0m\n",
      "\u001b[93m  Could not read /home/anders/Git/Ibex-Analysis/data/seu_2023-09-12_02-22-21.200489/log.txt\u001b[0m\n",
      "\u001b[93m  'utf-8' codec can't decode byte 0x93 in position 6802: invalid start byte\u001b[0m\n",
      "\u001b[93m  Could not read /home/anders/Git/Ibex-Analysis/data/seu_2023-09-12_02-53-49.803111/log.txt\u001b[0m\n",
      "\u001b[93m  'utf-8' codec can't decode byte 0xc8 in position 6422: invalid continuation byte\u001b[0m\n",
      "\u001b[93m  Could not read /home/anders/Git/Ibex-Analysis/data/seu_2023-09-18_07-55-46.286076/log.txt\u001b[0m\n",
      "\u001b[93m  'utf-8' codec can't decode byte 0xcc in position 5787: invalid continuation byte\u001b[0m\n",
      "\u001b[93m  Could not read /home/anders/Git/Ibex-Analysis/data/seu_2023-09-15_04-13-17.234068/log.txt\u001b[0m\n",
      "\u001b[93m  'utf-8' codec can't decode byte 0xcc in position 5743: invalid continuation byte\u001b[0m\n",
      "\u001b[93m  Could not read /home/anders/Git/Ibex-Analysis/data/seu_2023-09-19_08-01-46.513907/log.txt\u001b[0m\n",
      "\u001b[93m  'utf-8' codec can't decode byte 0xcc in position 5936: invalid continuation byte\u001b[0m\n",
      "\u001b[93m  Could not read /home/anders/Git/Ibex-Analysis/data/seu_2023-09-16_13-19-54.811539/log.txt\u001b[0m\n",
      "\u001b[93m  'utf-8' codec can't decode byte 0xcc in position 6384: invalid continuation byte\u001b[0m\n",
      "\u001b[93m  Could not read /home/anders/Git/Ibex-Analysis/data/seu_2023-09-17_07-39-19.491424/log.txt\u001b[0m\n",
      "\u001b[93m  'utf-8' codec can't decode byte 0x94 in position 5706: invalid start byte\u001b[0m\n",
      "\u001b[93m  Could not read /home/anders/Git/Ibex-Analysis/data/seu_2023-09-12_23-46-16.029139/log.txt\u001b[0m\n",
      "\u001b[93m  'utf-8' codec can't decode byte 0x82 in position 6429: invalid start byte\u001b[0m\n",
      "\u001b[93m  Could not read /home/anders/Git/Ibex-Analysis/data/seu_2023-09-15_01-22-19.137111/log.txt\u001b[0m\n",
      "\u001b[93m  'utf-8' codec can't decode byte 0xcc in position 6344: invalid continuation byte\u001b[0m\n",
      "\u001b[93m  Could not read /home/anders/Git/Ibex-Analysis/data/seu_2023-09-15_11-05-28.470157/log.txt\u001b[0m\n",
      "\u001b[93m  'utf-8' codec can't decode byte 0xcc in position 6384: invalid continuation byte\u001b[0m\n",
      "\u001b[93m  Could not read /home/anders/Git/Ibex-Analysis/data/seu_2023-09-17_20-59-11.792127/log.txt\u001b[0m\n",
      "\u001b[93m  'utf-8' codec can't decode byte 0xcc in position 5955: invalid continuation byte\u001b[0m\n",
      "\u001b[93m  Could not read /home/anders/Git/Ibex-Analysis/data/seu_2023-09-18_00-33-41.221477/log.txt\u001b[0m\n",
      "\u001b[93m  'utf-8' codec can't decode byte 0xcc in position 5981: invalid continuation byte\u001b[0m\n",
      "\u001b[93m  Could not read /home/anders/Git/Ibex-Analysis/data/seu_2023-09-19_00-10-45.714227/log.txt\u001b[0m\n",
      "\u001b[93m  'utf-8' codec can't decode byte 0x9c in position 6203: invalid start byte\u001b[0m\n",
      "\u001b[93m  Could not read /home/anders/Git/Ibex-Analysis/data/seu_2023-09-15_07-15-37.616119/log.txt\u001b[0m\n",
      "\u001b[93m  'utf-8' codec can't decode byte 0xcc in position 5980: invalid continuation byte\u001b[0m\n",
      "\u001b[93m  Could not read /home/anders/Git/Ibex-Analysis/data/seu_2023-09-16_13-15-09.260593/log.txt\u001b[0m\n",
      "\u001b[93m  'utf-8' codec can't decode byte 0xcc in position 6033: invalid continuation byte\u001b[0m\n",
      "\u001b[93m  Could not read /home/anders/Git/Ibex-Analysis/data/seu_2023-09-17_11-48-13.842139/log.txt\u001b[0m\n",
      "\u001b[93m  'utf-8' codec can't decode byte 0xcc in position 5892: invalid continuation byte\u001b[0m\n",
      "\u001b[93m  Could not read /home/anders/Git/Ibex-Analysis/data/seu_2023-09-15_16-21-30.572896/log.txt\u001b[0m\n",
      "\u001b[93m  'utf-8' codec can't decode byte 0xcc in position 5980: invalid continuation byte\u001b[0m\n",
      "\u001b[93m  Could not read /home/anders/Git/Ibex-Analysis/data/seu_2023-09-16_07-38-04.244068/log.txt\u001b[0m\n",
      "\u001b[93m  'utf-8' codec can't decode byte 0xcc in position 6183: invalid continuation byte\u001b[0m\n",
      "\u001b[93m  Could not read /home/anders/Git/Ibex-Analysis/data/seu_2023-09-16_06-00-18.760363/log.txt\u001b[0m\n",
      "\u001b[93m  'utf-8' codec can't decode byte 0xcc in position 6085: invalid continuation byte\u001b[0m\n",
      "\u001b[93m  Could not read /home/anders/Git/Ibex-Analysis/data/seu_2023-09-17_07-37-44.804974/log.txt\u001b[0m\n",
      "\u001b[93m  'utf-8' codec can't decode byte 0xcc in position 5810: invalid continuation byte\u001b[0m\n",
      "\u001b[1m\u001b[93m  Percent failed reads: 0.36%\u001b[0m\n",
      "\u001b[95mDone parsing SEU logs\u001b[0m\n",
      "\u001b[95mBuilding register tree\u001b[0m\n",
      "\u001b[93m  16.17% of the register tree is unpopulated\u001b[0m\n",
      "\u001b[95mBuilt register tree\u001b[0m\n"
     ]
    }
   ],
   "source": [
    "data_interface = DataInterface(runinfo)"
   ]
  },
  {
   "cell_type": "markdown",
   "metadata": {},
   "source": [
    "### Interfacing with the data\n",
    "\n",
    "Suppose we're interested in the register_file, and we want to compare its performance with the rest of the SoC"
   ]
  },
  {
   "cell_type": "code",
   "execution_count": 4,
   "metadata": {},
   "outputs": [],
   "source": [
    "path = \"ibex_soc_wrap.ibex_soc_i.ibex_wrap.u_top.\"\n",
    "path += \"u_ibex_top.gen_regfile_ff.register_file_i\"\n",
    "\n",
    "node = data_interface.get_node_by_path(path)"
   ]
  },
  {
   "cell_type": "markdown",
   "metadata": {},
   "source": [
    "We can also get nodes by name. Just be aware that the name search returns all possible matches, and therefore might require manual inspection"
   ]
  },
  {
   "cell_type": "code",
   "execution_count": 5,
   "metadata": {},
   "outputs": [
    {
     "name": "stdout",
     "output_type": "stream",
     "text": [
      "1 node(s) found by name\n",
      "Node by name: ibex_soc_wrap.ibex_soc_i.ibex_wrap.u_top.u_ibex_top.gen_regfile_ff.register_file_i\n",
      "Node by path: ibex_soc_wrap.ibex_soc_i.ibex_wrap.u_top.u_ibex_top.gen_regfile_ff.register_file_i\n"
     ]
    }
   ],
   "source": [
    "name = \"register_file_i\"\n",
    "nodes = data_interface.get_node_by_name(name)\n",
    "print(f\"{len(nodes)} node(s) found by name\")\n",
    "\n",
    "name_node = nodes[0]\n",
    "\n",
    "print(f\"Node by name: {name_node.soc_path}\\nNode by path: {node.soc_path}\")"
   ]
  },
  {
   "cell_type": "markdown",
   "metadata": {},
   "source": [
    "When we want to get data we query the interface with the node, to get the data that is relevant to that node"
   ]
  },
  {
   "cell_type": "code",
   "execution_count": 6,
   "metadata": {},
   "outputs": [
    {
     "name": "stdout",
     "output_type": "stream",
     "text": [
      "Number of entries on node_data: 6007\n",
      "Number of entries on root_data: 31991\n"
     ]
    },
    {
     "data": {
      "text/html": [
       "<div>\n",
       "<style scoped>\n",
       "    .dataframe tbody tr th:only-of-type {\n",
       "        vertical-align: middle;\n",
       "    }\n",
       "\n",
       "    .dataframe tbody tr th {\n",
       "        vertical-align: top;\n",
       "    }\n",
       "\n",
       "    .dataframe thead th {\n",
       "        text-align: right;\n",
       "    }\n",
       "</style>\n",
       "<table border=\"1\" class=\"dataframe\">\n",
       "  <thead>\n",
       "    <tr style=\"text-align: right;\">\n",
       "      <th></th>\n",
       "      <th>register</th>\n",
       "      <th>injection_cycle</th>\n",
       "      <th>bit_number</th>\n",
       "      <th>value_before</th>\n",
       "      <th>value_after</th>\n",
       "      <th>seed_crc</th>\n",
       "      <th>list_crc</th>\n",
       "      <th>matrix_crc</th>\n",
       "      <th>state_crc</th>\n",
       "      <th>final_crc</th>\n",
       "    </tr>\n",
       "  </thead>\n",
       "  <tbody>\n",
       "    <tr>\n",
       "      <th>seu_2023-09-11_23-14-43.659698</th>\n",
       "      <td>ibex_soc_wrap.ibex_soc_i.ibex_wrap.u_top.u_ibe...</td>\n",
       "      <td>233290</td>\n",
       "      <td>23</td>\n",
       "      <td>8203f6d0</td>\n",
       "      <td>8283f6d0</td>\n",
       "      <td>NaN</td>\n",
       "      <td>NaN</td>\n",
       "      <td>NaN</td>\n",
       "      <td>NaN</td>\n",
       "      <td>NaN</td>\n",
       "    </tr>\n",
       "    <tr>\n",
       "      <th>seu_2023-09-12_03-15-40.606839</th>\n",
       "      <td>ibex_soc_wrap.ibex_soc_i.ibex_wrap.u_top.u_ibe...</td>\n",
       "      <td>17369.9</td>\n",
       "      <td>5</td>\n",
       "      <td>00000000</td>\n",
       "      <td>00000020</td>\n",
       "      <td>: 0xe9f5</td>\n",
       "      <td>: 0xe714</td>\n",
       "      <td>: 0x1fd7</td>\n",
       "      <td>: 0x8e3a</td>\n",
       "      <td>: 0xe714</td>\n",
       "    </tr>\n",
       "    <tr>\n",
       "      <th>seu_2023-09-12_07-08-35.094762</th>\n",
       "      <td>ibex_soc_wrap.ibex_soc_i.ibex_wrap.u_top.u_ibe...</td>\n",
       "      <td>272170</td>\n",
       "      <td>27</td>\n",
       "      <td>8203fb34</td>\n",
       "      <td>8a03fb34</td>\n",
       "      <td>: 0xe9f5</td>\n",
       "      <td>: 0x1fec</td>\n",
       "      <td>: 0x1fd7</td>\n",
       "      <td>: 0x8e3a</td>\n",
       "      <td>: 0x1fec</td>\n",
       "    </tr>\n",
       "    <tr>\n",
       "      <th>seu_2023-09-14_15-51-06.031115</th>\n",
       "      <td>ibex_soc_wrap.ibex_soc_i.ibex_wrap.u_top.u_ibe...</td>\n",
       "      <td>280054</td>\n",
       "      <td>12</td>\n",
       "      <td>00000021</td>\n",
       "      <td>00001021</td>\n",
       "      <td>NaN</td>\n",
       "      <td>NaN</td>\n",
       "      <td>NaN</td>\n",
       "      <td>NaN</td>\n",
       "      <td>NaN</td>\n",
       "    </tr>\n",
       "    <tr>\n",
       "      <th>seu_2023-09-16_04-49-26.624457</th>\n",
       "      <td>ibex_soc_wrap.ibex_soc_i.ibex_wrap.u_top.u_ibe...</td>\n",
       "      <td>159718</td>\n",
       "      <td>24</td>\n",
       "      <td>8203fb8e</td>\n",
       "      <td>8303fb8e</td>\n",
       "      <td>NaN</td>\n",
       "      <td>NaN</td>\n",
       "      <td>NaN</td>\n",
       "      <td>NaN</td>\n",
       "      <td>NaN</td>\n",
       "    </tr>\n",
       "  </tbody>\n",
       "</table>\n",
       "</div>"
      ],
      "text/plain": [
       "                                                                         register  \\\n",
       "seu_2023-09-11_23-14-43.659698  ibex_soc_wrap.ibex_soc_i.ibex_wrap.u_top.u_ibe...   \n",
       "seu_2023-09-12_03-15-40.606839  ibex_soc_wrap.ibex_soc_i.ibex_wrap.u_top.u_ibe...   \n",
       "seu_2023-09-12_07-08-35.094762  ibex_soc_wrap.ibex_soc_i.ibex_wrap.u_top.u_ibe...   \n",
       "seu_2023-09-14_15-51-06.031115  ibex_soc_wrap.ibex_soc_i.ibex_wrap.u_top.u_ibe...   \n",
       "seu_2023-09-16_04-49-26.624457  ibex_soc_wrap.ibex_soc_i.ibex_wrap.u_top.u_ibe...   \n",
       "\n",
       "                               injection_cycle bit_number value_before  \\\n",
       "seu_2023-09-11_23-14-43.659698          233290         23     8203f6d0   \n",
       "seu_2023-09-12_03-15-40.606839         17369.9          5     00000000   \n",
       "seu_2023-09-12_07-08-35.094762          272170         27     8203fb34   \n",
       "seu_2023-09-14_15-51-06.031115          280054         12     00000021   \n",
       "seu_2023-09-16_04-49-26.624457          159718         24     8203fb8e   \n",
       "\n",
       "                               value_after  seed_crc  list_crc matrix_crc  \\\n",
       "seu_2023-09-11_23-14-43.659698    8283f6d0       NaN       NaN        NaN   \n",
       "seu_2023-09-12_03-15-40.606839    00000020  : 0xe9f5  : 0xe714   : 0x1fd7   \n",
       "seu_2023-09-12_07-08-35.094762    8a03fb34  : 0xe9f5  : 0x1fec   : 0x1fd7   \n",
       "seu_2023-09-14_15-51-06.031115    00001021       NaN       NaN        NaN   \n",
       "seu_2023-09-16_04-49-26.624457    8303fb8e       NaN       NaN        NaN   \n",
       "\n",
       "                               state_crc final_crc  \n",
       "seu_2023-09-11_23-14-43.659698       NaN       NaN  \n",
       "seu_2023-09-12_03-15-40.606839  : 0x8e3a  : 0xe714  \n",
       "seu_2023-09-12_07-08-35.094762  : 0x8e3a  : 0x1fec  \n",
       "seu_2023-09-14_15-51-06.031115       NaN       NaN  \n",
       "seu_2023-09-16_04-49-26.624457       NaN       NaN  "
      ]
     },
     "execution_count": 6,
     "metadata": {},
     "output_type": "execute_result"
    }
   ],
   "source": [
    "node_data = data_interface.get_data_by_node(node)\n",
    "root_data = data_interface.get_data_by_node(data_interface.root)\n",
    "\n",
    "print(f\"Number of entries on node_data: {len(node_data)}\")\n",
    "print(f\"Number of entries on root_data: {len(root_data)}\")\n",
    "\n",
    "node_data.head()"
   ]
  },
  {
   "cell_type": "markdown",
   "metadata": {},
   "source": [
    "### Running an analysis\n",
    "Right now only the simple classification is done, but more will be added.\n",
    "\n",
    "Classification is standardized by the `error_definitions.py` file"
   ]
  },
  {
   "cell_type": "code",
   "execution_count": 7,
   "metadata": {},
   "outputs": [
    {
     "name": "stdout",
     "output_type": "stream",
     "text": [
      "Silent Error (blue)\n",
      "Logs where we can't tell the difference from the golden run, using [COMPARISON_DATA] from the .ini\n",
      "\n",
      "Data Corruption Error (orange)\n",
      "Logs with different values to the golden log are considered data corruption errors\n",
      "\n",
      "Critical Error (red)\n",
      "Logs with missing information are considered critical errors. (NaN in the seu_log dataframe)\n"
     ]
    }
   ],
   "source": [
    "from src import SilentError, DataCorruptionError, CriticalError\n",
    "\n",
    "print(SilentError())\n",
    "print()\n",
    "print(DataCorruptionError())\n",
    "print()\n",
    "print(CriticalError())"
   ]
  },
  {
   "cell_type": "code",
   "execution_count": 8,
   "metadata": {},
   "outputs": [
    {
     "name": "stderr",
     "output_type": "stream",
     "text": [
      "/home/anders/Git/Ibex-Analysis/src/analysis/base_tools.py:49: UserWarning: Matplotlib is currently using module://matplotlib_inline.backend_inline, which is a non-GUI backend, so cannot show the figure.\n",
      "  fig.show()\n",
      "/home/anders/Git/Ibex-Analysis/src/analysis/base_tools.py:49: UserWarning: Matplotlib is currently using module://matplotlib_inline.backend_inline, which is a non-GUI backend, so cannot show the figure.\n",
      "  fig.show()\n"
     ]
    },
    {
     "data": {
      "image/png": "[encoded data removed]",
      "text/plain": [
       "<Figure size 640x480 with 1 Axes>"
      ]
     },
     "metadata": {},
     "output_type": "display_data"
    },
    {
     "data": {
      "image/png": "[encoded data removed]",
      "text/plain": [
       "<Figure size 640x480 with 1 Axes>"
      ]
     },
     "metadata": {},
     "output_type": "display_data"
    }
   ],
   "source": [
    "node_classifications, node_fig = BaseTools.error_classification(\n",
    "    node_data, data_interface.golden_log, True\n",
    ")\n",
    "root_classifications, root_fig = BaseTools.error_classification(\n",
    "    root_data, data_interface.golden_log, True\n",
    ")"
   ]
  },
  {
   "cell_type": "code",
   "execution_count": 9,
   "metadata": {},
   "outputs": [
    {
     "data": {
      "text/plain": [
       "seu_2023-09-11_23-14-43.659698           Critical Error\n",
       "seu_2023-09-12_03-15-40.606839             Silent Error\n",
       "seu_2023-09-12_07-08-35.094762    Data Corruption Error\n",
       "seu_2023-09-14_15-51-06.031115           Critical Error\n",
       "seu_2023-09-16_04-49-26.624457           Critical Error\n",
       "dtype: object"
      ]
     },
     "execution_count": 9,
     "metadata": {},
     "output_type": "execute_result"
    }
   ],
   "source": [
    "node_classifications.head()"
   ]
  }
 ],
 "metadata": {
  "kernelspec": {
   "display_name": "venv",
   "language": "python",
   "name": "python3"
  },
  "language_info": {
   "codemirror_mode": {
    "name": "ipython",
    "version": 3
   },
   "file_extension": ".py",
   "mimetype": "text/x-python",
   "name": "python",
   "nbconvert_exporter": "python",
   "pygments_lexer": "ipython3",
   "version": "3.11.6"
  },
  "orig_nbformat": 4
 },
 "nbformat": 4,
 "nbformat_minor": 2
}
